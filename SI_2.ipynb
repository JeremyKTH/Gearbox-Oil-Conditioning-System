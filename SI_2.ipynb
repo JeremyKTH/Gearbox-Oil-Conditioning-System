{
 "cells": [
  {
   "cell_type": "markdown",
   "id": "30540545-7db0-42cc-bcc5-a2a8718e7133",
   "metadata": {
    "tags": []
   },
   "source": [
    "## Controller Design with Pole Placement"
   ]
  },
  {
   "cell_type": "markdown",
   "id": "553dd112-69e5-4ca9-9209-e98ccefdfac2",
   "metadata": {},
   "source": [
    "### Create ARMAX model\n",
    "The ARMAX model is based on the paper \"Heat Exchanger Model (Data-driven modelling)\""
   ]
  },
  {
   "cell_type": "code",
   "execution_count": 14,
   "id": "e3ed60e4-a369-4970-af39-628f8dfa1f3b",
   "metadata": {},
   "outputs": [
    {
     "name": "stdout",
     "output_type": "stream",
     "text": [
      "\n",
      "sys =\n",
      " \n",
      "     0.0001701 z + 0.0001295\n",
      "  -----------------------------\n",
      "  z^5 - 0.2492 z^4 - 0.7469 z^3\n",
      " \n",
      "Sample time: 0.1 seconds\n",
      "Discrete-time transfer function.\n",
      "\n",
      "\n"
     ]
    }
   ],
   "source": [
    "num = [0.0001701, 0.0001295];          % B\n",
    "den = [1, -0.2492, -0.7469, 0, 0, 0];  % A\n",
    "ts = 0.1;\n",
    "sys = tf(num, den, ts)"
   ]
  },
  {
   "cell_type": "markdown",
   "id": "3420883a-a0a1-4675-ad31-8e230c80dd14",
   "metadata": {},
   "source": [
    "### Pole-Zero Cancellation\n",
    "Can use this to simplify the model if there exists pole-zero cancellation"
   ]
  },
  {
   "cell_type": "code",
   "execution_count": 31,
   "id": "21b36420-934b-47da-8ab4-1139b63aea48",
   "metadata": {},
   "outputs": [
    {
     "name": "stdout",
     "output_type": "stream",
     "text": [
      "\n",
      "sys =\n",
      " \n",
      "     0.0001701 z + 0.0001295\n",
      "  -----------------------------\n",
      "  z^5 - 0.2492 z^4 - 0.7469 z^3\n",
      " \n",
      "Sample time: 0.1 seconds\n",
      "Discrete-time transfer function.\n",
      "\n",
      "\n"
     ]
    }
   ],
   "source": [
    "sys = minreal(sys, 1e-3)   % in this case, it does not"
   ]
  },
  {
   "cell_type": "markdown",
   "id": "fe5236fc-de24-47f3-ba6a-a6ba71c3c9a0",
   "metadata": {},
   "source": [
    "### Check system poles, zeros, DC gain\n",
    "Use function **[z, p, k] = tf2zp(num, den)** ([link](https://se.mathworks.com/help/signal/ref/tf2zp.html))"
   ]
  },
  {
   "cell_type": "code",
   "execution_count": 30,
   "id": "f2ac1fc6-6b54-4204-977c-beb96efc4438",
   "metadata": {},
   "outputs": [
    {
     "name": "stdout",
     "output_type": "stream",
     "text": [
      "\n",
      "z =\n",
      "\n",
      "   -0.7613\n",
      "\n",
      "\n",
      "p =\n",
      "\n",
      "         0\n",
      "         0\n",
      "         0\n",
      "    0.9978\n",
      "   -0.7486\n",
      "\n",
      "\n",
      "k =\n",
      "\n",
      "   1.7010e-04\n",
      "\n",
      "\n"
     ]
    }
   ],
   "source": [
    "[z, p, k] = tf2zp(num, den)"
   ]
  },
  {
   "cell_type": "markdown",
   "id": "14cffbbd-9434-4a0b-8ca6-e6f34cbcd008",
   "metadata": {},
   "source": [
    "### Find Dominant Poles to Reduce System Order\n",
    "From the output above, the system poles are at 0, 0, 0, 0.9978, -0.7486 <br>\n",
    "The dominant poles in a discrete system are the ones that are closest to the unit circle <br>\n",
    "Thus, the dominant poles are at 0.9978, -0.7486. The system can thus be reduced to 2nd-order"
   ]
  },
  {
   "cell_type": "code",
   "execution_count": 36,
   "id": "88d8e909-6308-464b-b9b4-bdd068e71a4c",
   "metadata": {},
   "outputs": [
    {
     "name": "stdout",
     "output_type": "stream",
     "text": [
      "\n",
      "sys_dominant =\n",
      " \n",
      "  0.0001701 z + 0.0001295\n",
      "  -----------------------\n",
      "  z^2 - 0.2492 z - 0.747\n",
      " \n",
      "Sample time: 0.1 seconds\n",
      "Discrete-time transfer function.\n",
      "\n",
      "\n"
     ]
    }
   ],
   "source": [
    "z = tf('z', ts);\n",
    "\n",
    "sys_dominant = k*(z+0.7613)/((z-0.9978)*(z+0.7486))  % remember to include the DC gain (k)"
   ]
  },
  {
   "cell_type": "markdown",
   "id": "0219bb36-150c-4737-8bf4-86738d65cc48",
   "metadata": {},
   "source": [
    "### To proof that the reduced-order system is still a good approximate of the original system\n",
    "Easy example: <br>\n",
    "* step( ): for plotting system response\n",
    "* stepinfo( ): retrieve information"
   ]
  },
  {
   "cell_type": "code",
   "execution_count": 37,
   "id": "9385151e-dc4a-4ee9-84af-aa9e99a0d7bb",
   "metadata": {},
   "outputs": [
    {
     "name": "stdout",
     "output_type": "stream",
     "text": [
      "\n"
     ]
    },
    {
     "data": {
      "image/png": "[encoded data removed]",
      "text/plain": [
       "<IPython.core.display.Image object>"
      ]
     },
     "metadata": {},
     "output_type": "display_data"
    }
   ],
   "source": [
    "step(sys, sys_dominant)"
   ]
  },
  {
   "cell_type": "markdown",
   "id": "93b61906-2308-46a3-bf50-1084e998f7a2",
   "metadata": {},
   "source": [
    "From the output below it is clear that ***sys*** and ***sys_dominant*** are almost identical"
   ]
  },
  {
   "cell_type": "code",
   "execution_count": 35,
   "id": "193f5a0a-ae75-4462-acae-4a41adbe4a60",
   "metadata": {},
   "outputs": [
    {
     "name": "stdout",
     "output_type": "stream",
     "text": [
      "\n",
      "S = \n",
      "\n",
      "  struct with fields:\n",
      "\n",
      "        RiseTime: 98.4000\n",
      "    SettlingTime: 175.6000\n",
      "     SettlingMin: 0.0692\n",
      "     SettlingMax: 0.0767\n",
      "       Overshoot: 0\n",
      "      Undershoot: 0\n",
      "            Peak: 0.0767\n",
      "        PeakTime: 275.9000\n",
      "\n",
      "--------------------------\n",
      "\n",
      "S = \n",
      "\n",
      "  struct with fields:\n",
      "\n",
      "        RiseTime: 99.8000\n",
      "    SettlingTime: 177.7000\n",
      "     SettlingMin: 0.0701\n",
      "     SettlingMax: 0.0779\n",
      "       Overshoot: 0\n",
      "      Undershoot: 0\n",
      "            Peak: 0.0779\n",
      "        PeakTime: 437.9000\n",
      "\n",
      "\n"
     ]
    }
   ],
   "source": [
    "S = stepinfo(sys)\n",
    "display('--------------------------')\n",
    "S = stepinfo(sys_dominant)"
   ]
  },
  {
   "cell_type": "markdown",
   "id": "54d3241d-1cc3-4baf-b30c-9c384ffbb118",
   "metadata": {},
   "source": [
    "## Pole Placement\n",
    "K = place(A, B, p)       ([link](https://se.mathworks.com/help/control/ref/place.html))"
   ]
  },
  {
   "cell_type": "code",
   "execution_count": null,
   "id": "628628e9-943d-45f6-87d5-0020f7a69264",
   "metadata": {},
   "outputs": [],
   "source": [
    "p = []"
   ]
  }
 ],
 "metadata": {
  "kernelspec": {
   "display_name": "Matlab",
   "language": "matlab",
   "name": "matlab"
  },
  "language_info": {
   "codemirror_mode": "octave",
   "file_extension": ".m",
   "help_links": [
    {
     "text": "MetaKernel Magics",
     "url": "https://metakernel.readthedocs.io/en/latest/source/README.html"
    }
   ],
   "mimetype": "text/x-octave",
   "name": "matlab",
   "version": "0.16.11"
  }
 },
 "nbformat": 4,
 "nbformat_minor": 5
}
