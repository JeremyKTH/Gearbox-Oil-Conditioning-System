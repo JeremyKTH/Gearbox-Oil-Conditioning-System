{
 "cells": [
  {
   "cell_type": "markdown",
   "id": "30540545-7db0-42cc-bcc5-a2a8718e7133",
   "metadata": {
    "tags": []
   },
   "source": [
    "## Controller Design with Pole Placement"
   ]
  },
  {
   "cell_type": "markdown",
   "id": "cd164166-13ae-4bf9-9189-f55aae220434",
   "metadata": {},
   "source": [
    "### Steps:\n",
    "1. Import the best model\n",
    "2. Use **tf2zp( )** to see all poles & zeros location\n",
    "3. Use **minreal( )** to see if pole zero cancellation\n",
    "4. Find dominant pole(s) to reduce system order\n",
    "5. Use a simple step responsee to show that the reduced order system can still correctly resemble the system"
   ]
  },
  {
   "cell_type": "markdown",
   "id": "553dd112-69e5-4ca9-9209-e98ccefdfac2",
   "metadata": {},
   "source": [
    "### Create ARMAX model\n",
    "The ARMAX model is based on the paper \"Heat Exchanger Model (Data-driven modelling)\""
   ]
  },
  {
   "cell_type": "code",
   "execution_count": 33,
   "id": "e3ed60e4-a369-4970-af39-628f8dfa1f3b",
   "metadata": {},
   "outputs": [
    {
     "name": "stdout",
     "output_type": "stream",
     "text": [
      "\n",
      "sys =\n",
      " \n",
      "     0.0001701 z + 0.0001295\n",
      "  -----------------------------\n",
      "  z^5 - 0.2492 z^4 - 0.7469 z^3\n",
      " \n",
      "Sample time: 1 seconds\n",
      "Discrete-time transfer function.\n",
      "\n",
      "\n"
     ]
    }
   ],
   "source": [
    "num = [0.0001701, 0.0001295];          % B\n",
    "den = [1, -0.2492, -0.7469, 0, 0, 0];  % A\n",
    "Ts = 1;\n",
    "sys = tf(num, den, Ts)"
   ]
  },
  {
   "cell_type": "markdown",
   "id": "3420883a-a0a1-4675-ad31-8e230c80dd14",
   "metadata": {},
   "source": [
    "### Pole-Zero Cancellation\n",
    "Can use this to simplify the model if there exists pole-zero cancellation"
   ]
  },
  {
   "cell_type": "code",
   "execution_count": 3,
   "id": "21b36420-934b-47da-8ab4-1139b63aea48",
   "metadata": {},
   "outputs": [
    {
     "name": "stdout",
     "output_type": "stream",
     "text": [
      "\n",
      "sys =\n",
      " \n",
      "     0.0001701 z + 0.0001295\n",
      "  -----------------------------\n",
      "  z^5 - 0.2492 z^4 - 0.7469 z^3\n",
      " \n",
      "Sample time: 4 seconds\n",
      "Discrete-time transfer function.\n",
      "\n",
      "\n"
     ]
    }
   ],
   "source": [
    "sys = minreal(sys, 1e-3)   % in this case, it does not"
   ]
  },
  {
   "cell_type": "markdown",
   "id": "fe5236fc-de24-47f3-ba6a-a6ba71c3c9a0",
   "metadata": {},
   "source": [
    "### Check system poles, zeros, DC gain\n",
    "Use function **[z, p, k] = tf2zp(num, den)** ([link](https://se.mathworks.com/help/signal/ref/tf2zp.html))"
   ]
  },
  {
   "cell_type": "code",
   "execution_count": 20,
   "id": "f2ac1fc6-6b54-4204-977c-beb96efc4438",
   "metadata": {},
   "outputs": [
    {
     "name": "stdout",
     "output_type": "stream",
     "text": [
      "\n",
      "ze =\n",
      "\n",
      "   -0.7613\n",
      "\n",
      "\n",
      "p =\n",
      "\n",
      "         0\n",
      "         0\n",
      "         0\n",
      "    0.9978\n",
      "   -0.7486\n",
      "\n",
      "\n",
      "k =\n",
      "\n",
      "   1.7010e-04\n",
      "\n",
      "\n"
     ]
    }
   ],
   "source": [
    "[ze, p, k] = tf2zp(num, den)"
   ]
  },
  {
   "cell_type": "markdown",
   "id": "14cffbbd-9434-4a0b-8ca6-e6f34cbcd008",
   "metadata": {},
   "source": [
    "### Find Dominant Poles to Reduce System Order\n",
    "From the output above, the system poles are at 0, 0, 0, 0.9978, -0.7486 <br>\n",
    "The dominant poles in a discrete system are the ones that are closest to the unit circle <br>\n",
    "Thus, the dominant poles are at 0.9978, -0.7486. The system can thus be reduced to 2nd-order"
   ]
  },
  {
   "cell_type": "code",
   "execution_count": 34,
   "id": "88d8e909-6308-464b-b9b4-bdd068e71a4c",
   "metadata": {},
   "outputs": [
    {
     "name": "stdout",
     "output_type": "stream",
     "text": [
      "\n",
      "sys_dominant =\n",
      " \n",
      "  0.0001701 z + 0.0001295\n",
      "  -----------------------\n",
      "  z^2 - 0.2492 z - 0.747\n",
      " \n",
      "Sample time: 1 seconds\n",
      "Discrete-time transfer function.\n",
      "\n",
      "\n"
     ]
    }
   ],
   "source": [
    "z = tf('z', Ts);\n",
    "sys_dominant = k*(z+0.7613)/((z-0.9978)*(z+0.7486))  % remember to include the DC gain (k)"
   ]
  },
  {
   "cell_type": "markdown",
   "id": "0219bb36-150c-4737-8bf4-86738d65cc48",
   "metadata": {},
   "source": [
    "### To proof that the reduced-order system is still a good approximate of the original system\n",
    "Easy example: <br>\n",
    "* step( ): for plotting system response\n",
    "* stepinfo( ): retrieve information"
   ]
  },
  {
   "cell_type": "code",
   "execution_count": 7,
   "id": "9385151e-dc4a-4ee9-84af-aa9e99a0d7bb",
   "metadata": {},
   "outputs": [
    {
     "name": "stdout",
     "output_type": "stream",
     "text": [
      "\n"
     ]
    },
    {
     "data": {
      "image/png": "[encoded data removed]",
      "text/plain": [
       "<IPython.core.display.Image object>"
      ]
     },
     "metadata": {},
     "output_type": "display_data"
    }
   ],
   "source": [
    "step(sys, sys_dominant)\n",
    "legend({'original system', 'dominant pole'})"
   ]
  },
  {
   "cell_type": "markdown",
   "id": "93b61906-2308-46a3-bf50-1084e998f7a2",
   "metadata": {},
   "source": [
    "From the output below it is clear that ***sys*** and ***sys_dominant*** are almost identical"
   ]
  },
  {
   "cell_type": "code",
   "execution_count": 8,
   "id": "193f5a0a-ae75-4462-acae-4a41adbe4a60",
   "metadata": {},
   "outputs": [
    {
     "name": "stdout",
     "output_type": "stream",
     "text": [
      "\n",
      "S = \n",
      "\n",
      "  struct with fields:\n",
      "\n",
      "        RiseTime: 3936\n",
      "    SettlingTime: 7024\n",
      "     SettlingMin: 0.0692\n",
      "     SettlingMax: 0.0767\n",
      "       Overshoot: 0\n",
      "      Undershoot: 0\n",
      "            Peak: 0.0767\n",
      "        PeakTime: 11036\n",
      "\n",
      "--------------------------\n",
      "\n",
      "S = \n",
      "\n",
      "  struct with fields:\n",
      "\n",
      "        RiseTime: 3992\n",
      "    SettlingTime: 7108\n",
      "     SettlingMin: 0.0701\n",
      "     SettlingMax: 0.0779\n",
      "       Overshoot: 0\n",
      "      Undershoot: 0\n",
      "            Peak: 0.0779\n",
      "        PeakTime: 17516\n",
      "\n",
      "\n"
     ]
    }
   ],
   "source": [
    "S = stepinfo(sys)\n",
    "display('--------------------------')\n",
    "S = stepinfo(sys_dominant)"
   ]
  },
  {
   "cell_type": "markdown",
   "id": "6903e2a5-79b7-4d3b-9354-43fe24b7b267",
   "metadata": {},
   "source": [
    "### This step is just to convert the poles to continuous time. The rest is just to double check if the converted poles are correct."
   ]
  },
  {
   "cell_type": "code",
   "execution_count": 35,
   "id": "693dc0b9-8fa6-4472-af9b-c77ff5ca6bb6",
   "metadata": {},
   "outputs": [
    {
     "name": "stdout",
     "output_type": "stream",
     "text": [
      "\n",
      "pole_cont =\n",
      "\n",
      "  -13.9109\n",
      "   -0.0022\n",
      "\n",
      "\n",
      "zero_cont =\n",
      "\n",
      "  -14.7574\n",
      "    2.0000\n",
      "\n",
      "\n",
      "sys_cont_proof =\n",
      " \n",
      "  s^2 + 12.76 s - 29.51\n",
      "  ----------------------\n",
      "  s^2 + 13.91 s + 0.0306\n",
      " \n",
      "Continuous-time transfer function.\n",
      "\n",
      "\n",
      "k_d =\n",
      "\n",
      "    0.0779\n",
      "\n",
      "\n",
      "k_c =\n",
      "\n",
      " -964.4105\n",
      "\n",
      "\n",
      "sys_cont_proof =\n",
      " \n",
      "      -s^2 - 12.76 s + 29.51\n",
      "  ------------------------------\n",
      "  964.4 s^2 + 1.342e04 s + 29.51\n",
      " \n",
      "Continuous-time transfer function.\n",
      "\n",
      "\n"
     ]
    },
    {
     "data": {
      "image/png": "[encoded data removed]",
      "text/plain": [
       "<IPython.core.display.Image object>"
      ]
     },
     "metadata": {},
     "output_type": "display_data"
    }
   ],
   "source": [
    "sys_cont = d2c(sys_dominant, 'tustin');\n",
    "\n",
    "pole_cont = pole(sys_cont)\n",
    "zero_cont = zero(sys_cont)\n",
    "\n",
    "s = tf('s');\n",
    "%sys_cont_proof = ((s-0.5)*(s+3.6894))/((s+0.0006)*(s+3.477)) % Ts = 4\n",
    "sys_cont_proof = ((s-2)*(s+14.7574))/((s+0.0022)*(s+13.9109)) % Ts = 1\n",
    "\n",
    "% check dc gain\n",
    "% k = DC gain of original system\n",
    "k_d = dcgain(sys_cont) % k_d : sys_dominant = sys_cont\n",
    "k_c = dcgain(sys_cont_proof)\n",
    "sys_cont_proof = sys_cont_proof/k_c\n",
    "\n",
    "step((sys/k_d), (sys_cont/k_d), sys_cont_proof)\n",
    "legend({'original system', 'dominant pole', 'proof_cont'})"
   ]
  },
  {
   "cell_type": "markdown",
   "id": "64c8baff-00ee-4946-86cb-f72a0ed64d52",
   "metadata": {},
   "source": [
    "### From the chart above we can confirm that:\n",
    "1. Choosing the dominant pole to reduce the system order is possible (sys_dominant)\n",
    "2. Transform the discrete transfer function (sys_dominant) into continuous time is possible (sys_cont, sys_cont_proof)\n",
    "3. We also retrieve the dominant poles in continuous time are at -0.0006 and -3.4777"
   ]
  },
  {
   "cell_type": "markdown",
   "id": "77e4d255-2642-4872-b4d0-68c2dcde18c7",
   "metadata": {},
   "source": [
    "## Pole Placement\n",
    "In this particular case, the system is reduced to second order.    <br>"
   ]
  },
  {
   "cell_type": "markdown",
   "id": "1aebd6f7-9f8f-4d77-a531-3880c268f2aa",
   "metadata": {},
   "source": [
    "1. A general form of a second order system can be shown as $G_p$:  <br>\n",
    "> $G_p = \\frac{B}{A} = \\frac{b_{1}z + b_{0}}{z^{2}+a_{1}z+a_{0}}$  <br>"
   ]
  },
  {
   "cell_type": "code",
   "execution_count": 36,
   "id": "628628e9-943d-45f6-87d5-0020f7a69264",
   "metadata": {},
   "outputs": [
    {
     "name": "stdout",
     "output_type": "stream",
     "text": [
      "\n"
     ]
    }
   ],
   "source": [
    "% Retreive coefficients of the plant\n",
    "Gp = sys_dominant;\n",
    "[num, den] = tfdata(Gp);\n",
    "b1 = num{1}(2);  b0 = num{1}(3);\n",
    "a1 = den{1}(2);  a0 = den{1}(3);"
   ]
  },
  {
   "cell_type": "markdown",
   "id": "893f38bc-3611-49a5-b2bc-cf63440c251b",
   "metadata": {},
   "source": [
    "Choose poles: <br>\n",
    "$A_m \\rightarrow (w_m, \\zeta_m)$ <br>\n",
    "$A_o \\rightarrow (w_o)$ "
   ]
  },
  {
   "cell_type": "code",
   "execution_count": 37,
   "id": "ef8dac3f-132b-4b98-a8ca-3b76feb4f782",
   "metadata": {},
   "outputs": [
    {
     "name": "stdout",
     "output_type": "stream",
     "text": [
      "\n"
     ]
    }
   ],
   "source": [
    "%--- A_m ------\n",
    "w_m = 35;  % 10 times faster, origial is at -3.4777\n",
    "zeta_m = 0.7;\n",
    "\n",
    "%--- A_o ------\n",
    "w_o = 80;"
   ]
  },
  {
   "cell_type": "markdown",
   "id": "d191e398-47db-4d41-9349-d62b8f8bea28",
   "metadata": {},
   "source": [
    "2. A general form of a PI controller in discrete time can be shown as $G_c$: <br>\n",
    "> $G_c = \\frac{S}{R} = P + I \\frac{T_s}{z-1}$                                <br>\n",
    "\n",
    "3. Diophantine equation $A_{cl}$:                                                        <br>\n",
    "> $A_{cl} = AR+BS = ( z^{2}+a_{1}z+a_{0} )( z-1 ) + ( b_{1}z + b_{0} )( Pz+IT_{s}-P )$   <br>\n",
    "\n",
    "4. Desired equation $A_{d} = A_{m}(z)A_{o}(z)$: <br>\n",
    "> $deg(A_{cl}) = deg(A_{d})  = 3 $              <br>\n",
    "> $deg(A_{m}) = deg(G_{p})   = 2 $              <br>\n",
    "> $deg(A_{o}) = deg(A_{d}) - deg(A_{m}) = 1$    <br>\n",
    "\n",
    "5. Designing $A_{d}$ and $A_{o}$:                                                <br>\n",
    "* A first order general discrete form is:                                        <br>\n",
    "> $A_{o} = z-e^{-w_{o}T_{s}} = p_0$                                              <br>\n",
    "\n",
    "* A second order general discrete form is:                                             <br>\n",
    "> $A_{m} = (z-z_{1})(z-z_{2}) = z^2-(z_{1}+z_{2})+z_{1}z_{2} = z^2- p_2 z+ p_1 $       <br>\n",
    "> $p_2 = z_{1} + z_{2} = 2e^{-\\zeta_{m} w_{m} T_{s}} \\cos(w_{m}T_{s} \\sqrt{1-\\zeta_{m}^2}) $   <br>\n",
    "> $p_1 = z_{1}z_{2} = e^{-2\\zeta_{m} w_{m}T_{s}}$                                          <br>\n",
    "\n",
    "Note that choosing a pole $w_{o}$ at continuous time is associating to the pole $e^{-w_{o}T_{s}}$ in discrete time"
   ]
  },
  {
   "cell_type": "code",
   "execution_count": 38,
   "id": "6ce75630-8a49-4dc9-8a8b-79ae0c1273b9",
   "metadata": {},
   "outputs": [
    {
     "name": "stdout",
     "output_type": "stream",
     "text": [
      "\n"
     ]
    }
   ],
   "source": [
    "%--- A_m ------\n",
    "p2 = 2*exp(-zeta_m*w_m*Ts)*cos(w_m*Ts*sqrt(1-(zeta_m)^2)); % z1 + z2\n",
    "p1 = exp(-2*zeta_m*w_m*Ts); % z1*z2\n",
    "\n",
    "%--- A_o ------\n",
    "p0 = exp(-w_o*Ts);"
   ]
  },
  {
   "cell_type": "code",
   "execution_count": 39,
   "id": "5815dd5a-874f-4d76-bccb-e2ec42d37356",
   "metadata": {},
   "outputs": [
    {
     "name": "stdout",
     "output_type": "stream",
     "text": [
      "\n"
     ]
    }
   ],
   "source": [
    "% Diophantine Eqn A_cl = AR + BS\n",
    "syms P I z\n",
    "A_cl = (z^2+a1*z+a0)*(z-1) + (b1*z+b0)*(P*z + I*Ts - P);\n",
    "A_d = (z^2-p2*z+p1)*(z-p0);\n",
    "A_cl_c = fliplr(coeffs(A_cl, z)); % retreive coeficients\n",
    "A_d_c = fliplr(coeffs(A_d, z));     % retreive coeficients"
   ]
  },
  {
   "cell_type": "code",
   "execution_count": 40,
   "id": "ddd69978-5821-489f-b811-44c9deb2e1bd",
   "metadata": {},
   "outputs": [
    {
     "name": "stdout",
     "output_type": "stream",
     "text": [
      "\n",
      "P =\n",
      "\n",
      "  0x1 empty double column vector\n",
      "\n",
      "\n",
      "I =\n",
      "\n",
      "  0x1 empty double column vector\n",
      "\n",
      "\n"
     ]
    }
   ],
   "source": [
    "% Solve Eqn\n",
    "equ1 = A_cl_c(2) == A_d_c(2); % z^2\n",
    "equ2 = A_cl_c(3) == A_d_c(3); % z^1\n",
    "equ3 = A_cl_c(4) == A_d_c(4); % z^0\n",
    "\n",
    "sol = solve([equ1, equ2, equ3], [P, I]);\n",
    "\n",
    "P = double(sol.P)\n",
    "I = double(sol.I)"
   ]
  },
  {
   "cell_type": "markdown",
   "id": "9626e75b-1617-49d6-9b72-a8df2c394fe5",
   "metadata": {},
   "source": [
    "<div class=\"alert-info\">\n",
    "Note that Num of Diophantine Eqn > Num of Control Parameters. In this case, the system is unsolvable <br>\n",
    "Solution: <br>\n",
    "Add a Derivative with low pass filter\n",
    "</div>"
   ]
  },
  {
   "cell_type": "markdown",
   "id": "6c27f1a2-c2cc-4cf2-9e7e-80fd51292f64",
   "metadata": {},
   "source": [
    "6. Add a low pass filter to our PI controller in discrete time $G_c$:          <br>\n",
    "> $G_c = \\frac{S}{R} = P + I \\frac{T_s}{z-1} + D \\frac{(z-1)N}{z-1+NTs}$       <br>\n",
    "> where N is the low pass filter \n",
    "\n",
    "$A_{cl}$ thus becomes a 4th-order polynomial. This results in both $A_{m}$ and $A_{o}$ become 2nd-order. <br>\n",
    "$A_{d} = A_{m}A_{o} = (z^2-p_3z+p_2)(z^2-p_1z+p_0)$, where\n",
    "> $p_3 = 2e^{-\\zeta_{m} w_{m} T_{s}} \\cos(w_{m}T_{s} \\sqrt{1-\\zeta_{m}^2}) $   <br>\n",
    "> $p_2 = e^{-2\\zeta_{m} w_{m}T_{s}}$                                           <br>\n",
    "> $p_1 = 2e^{-\\zeta_{o} w_{o} T_{s}} \\cos(w_{o}T_{s} \\sqrt{1-\\zeta_{o}^2}) $   <br>\n",
    "> $p_0 = e^{-2\\zeta_{o} w_{o}T_{s}}$                                           <br>\n",
    "\n",
    "Thus, we have to choose $(w_m, \\zeta_m)$ and $(w_o, \\zeta_o)$"
   ]
  },
  {
   "cell_type": "code",
   "execution_count": 72,
   "id": "ba9815b2-9eea-440e-83d0-afe23f094aa1",
   "metadata": {},
   "outputs": [
    {
     "name": "stdout",
     "output_type": "stream",
     "text": [
      "\n"
     ]
    }
   ],
   "source": [
    "%--- A_m ------\n",
    "w_m = 5;  % 10 times faster, origial is at -3.4777\n",
    "zeta_m = 0.5;\n",
    "%--- A_o ------\n",
    "w_o = 5;\n",
    "zeta_o = zeta_m;\n",
    "\n",
    "p3 = 2*exp(-zeta_m*w_m*Ts)*cos(w_m*Ts*sqrt(1-(zeta_m)^2));\n",
    "p2 = exp(-2*zeta_m*w_m*Ts);\n",
    "p1 = 2*exp(-zeta_o*w_o*Ts)*cos(w_o*Ts*sqrt(1-(zeta_o)^2));\n",
    "p0 = exp(-2*zeta_o*w_o*Ts);"
   ]
  },
  {
   "cell_type": "code",
   "execution_count": 73,
   "id": "b013666a-36d1-435d-951c-12b9930358d4",
   "metadata": {},
   "outputs": [
    {
     "name": "stdout",
     "output_type": "stream",
     "text": [
      "\n"
     ]
    }
   ],
   "source": [
    "% Diophantine Eqn A_cl = AR + BS\n",
    "syms P I D N z\n",
    "A_cl = (z^2+a1*z+a0)*(z-1)*(z-1+N*Ts) + (b1*z+b0)*((z-1)*(z-1+N*Ts)*P+(z-1+N*Ts)*I*Ts+(z-1)^2*D*N);\n",
    "A_d = (z^2-p3*z+p2)*(z^2-p1*z+p0);\n",
    "A_cl_c = fliplr(coeffs(A_cl, z)); % retreive coeficients\n",
    "A_d_c = fliplr(coeffs(A_d, z));   % retreive coeficients"
   ]
  },
  {
   "cell_type": "code",
   "execution_count": 74,
   "id": "d4c843dd-465d-4b8c-9eee-6d1701b2bc46",
   "metadata": {},
   "outputs": [
    {
     "name": "stdout",
     "output_type": "stream",
     "text": [
      "\n"
     ]
    }
   ],
   "source": [
    "% Solve Eqn\n",
    "equ1 = A_cl_c(2) == A_d_c(2); % z^3\n",
    "equ2 = A_cl_c(3) == A_d_c(3); % z^2\n",
    "equ3 = A_cl_c(4) == A_d_c(4); % z^1\n",
    "equ4 = A_cl_c(5) == A_d_c(5); % z^0\n",
    "\n",
    "sol = solve([equ1, equ2, equ3, equ4], [P, I, D, N]);"
   ]
  },
  {
   "cell_type": "markdown",
   "id": "1db77057-ab48-480e-96fe-b44d7fa530bd",
   "metadata": {},
   "source": [
    "<div class=\"alert-success\">\n",
    "Now we solve the solution for P, I, D, N\n",
    "</div>"
   ]
  },
  {
   "cell_type": "code",
   "execution_count": 75,
   "id": "a4f0a800-0ab2-4384-afa1-9c0c70f7c9cd",
   "metadata": {},
   "outputs": [
    {
     "name": "stdout",
     "output_type": "stream",
     "text": [
      "\n",
      "P =\n",
      "\n",
      "  -2.3544e+03\n",
      "\n",
      "\n",
      "I =\n",
      "\n",
      " -674.8812\n",
      "\n",
      "\n",
      "D =\n",
      "\n",
      "  -8.7679e+03\n",
      "\n",
      "\n",
      "N =\n",
      "\n",
      "   -5.6410\n",
      "\n",
      "\n"
     ]
    }
   ],
   "source": [
    "P = double(sol.P)\n",
    "I = double(sol.I)\n",
    "D = double(sol.D)\n",
    "N = double(sol.N)"
   ]
  },
  {
   "cell_type": "code",
   "execution_count": 76,
   "id": "886c3953-92cf-42d6-b7a1-4bc0acb55eac",
   "metadata": {},
   "outputs": [
    {
     "name": "stdout",
     "output_type": "stream",
     "text": [
      "\n",
      "G_c =\n",
      " \n",
      "  4.711e04 z^2 - 8.161e04 z + 3.831e04\n",
      "  ------------------------------------\n",
      "         z^2 - 7.641 z + 6.641\n",
      " \n",
      "Sample time: 1 seconds\n",
      "Discrete-time transfer function.\n",
      "\n",
      "\n"
     ]
    }
   ],
   "source": [
    "z = tf('z', Ts);\n",
    "G_c = P + D*(((z-1)*N)/(z-1+N*Ts)) + I*Ts/(z-1)"
   ]
  },
  {
   "cell_type": "code",
   "execution_count": 77,
   "id": "25846e8d-0933-427e-bfb6-5346d266934e",
   "metadata": {},
   "outputs": [
    {
     "name": "stdout",
     "output_type": "stream",
     "text": [
      "\n",
      "G_ff =\n",
      " \n",
      "  3565 z^2 + 218.3 z + 24.02\n",
      "  --------------------------\n",
      "    z^2 - 6.641 z + 5.641\n",
      " \n",
      "Sample time: 1 seconds\n",
      "Discrete-time transfer function.\n",
      "\n",
      "\n"
     ]
    }
   ],
   "source": [
    "t_o = (1-p3+p2)/(b1+b0);\n",
    "A_o = [1, -p1, p0];\n",
    "T = t_o*A_o;\n",
    "R = [1, N-1, -N];\n",
    "G_ff = tf(T, R, Ts)"
   ]
  },
  {
   "cell_type": "code",
   "execution_count": 78,
   "id": "e6a4bb7d-7afd-4f66-a7ee-258235395108",
   "metadata": {},
   "outputs": [
    {
     "name": "stdout",
     "output_type": "stream",
     "text": [
      "\n",
      "Gyr =\n",
      " \n",
      "       0.6064 z^7 - 4.286 z^6 + 0.8256 z^5 + 6.094 z^4 - 0.7589 z^3 - 2.319 z^2 - 0.1479 z - 0.01543\n",
      "  -------------------------------------------------------------------------------------------------------\n",
      "  z^8 - 6.768 z^7 + 5.722 z^6 + 4.239 z^5 - 3.671 z^4 - 0.4497 z^3 - 0.06935 z^2 - 0.003316 z - 0.0001913\n",
      " \n",
      "Sample time: 1 seconds\n",
      "Discrete-time transfer function.\n",
      "\n",
      "\n"
     ]
    }
   ],
   "source": [
    "Gyr = G_ff*Gp/(1+G_c*Gp)"
   ]
  },
  {
   "cell_type": "code",
   "execution_count": 79,
   "id": "72fe45da-26f6-49b4-97b9-01556f56c4bc",
   "metadata": {},
   "outputs": [
    {
     "name": "stdout",
     "output_type": "stream",
     "text": [
      "\n"
     ]
    },
    {
     "data": {
      "image/png": "[encoded data removed]",
      "text/plain": [
       "<IPython.core.display.Image object>"
      ]
     },
     "metadata": {},
     "output_type": "display_data"
    }
   ],
   "source": [
    "pzmap(Gyr)\n",
    "grid on;"
   ]
  },
  {
   "cell_type": "code",
   "execution_count": null,
   "id": "15a192a4-4695-4a28-a4ab-479236e51edc",
   "metadata": {},
   "outputs": [],
   "source": []
  }
 ],
 "metadata": {
  "kernelspec": {
   "display_name": "Matlab",
   "language": "matlab",
   "name": "matlab"
  },
  "language_info": {
   "codemirror_mode": "octave",
   "file_extension": ".m",
   "help_links": [
    {
     "text": "MetaKernel Magics",
     "url": "https://metakernel.readthedocs.io/en/latest/source/README.html"
    }
   ],
   "mimetype": "text/x-octave",
   "name": "matlab",
   "version": "0.16.11"
  }
 },
 "nbformat": 4,
 "nbformat_minor": 5
}
