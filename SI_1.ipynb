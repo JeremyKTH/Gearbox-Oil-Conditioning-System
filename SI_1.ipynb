{
 "cells": [
  {
   "cell_type": "markdown",
   "id": "84635ac0-8636-4155-a24f-6542493e283f",
   "metadata": {},
   "source": [
    "## Import Data and Create Column Names\n",
    "1. Import data as a table\n",
    "2. Add column names into the table"
   ]
  },
  {
   "cell_type": "code",
   "execution_count": 1,
   "id": "66c8c3cd-3194-409c-995e-77f785a2d651",
   "metadata": {},
   "outputs": [
    {
     "name": "stdout",
     "output_type": "stream",
     "text": [
      "\n"
     ]
    }
   ],
   "source": [
    "T = readtable('C:\\Users\\jerem\\Documents\\Python Scripts\\Scania\\clean_data.csv');\n",
    "\n",
    "T.Properties.VariableNames = {'KVSV1', 'OTGT1', 'OTGT6', 'OTSV1', 'QV11', 'TV11', 'TV12', 'TV_Cmd'};"
   ]
  },
  {
   "cell_type": "markdown",
   "id": "d628cf34-37f4-4ee8-bdbd-69ee49cb8024",
   "metadata": {
    "tags": []
   },
   "source": [
    "## Create mini batch\n",
    "Input Command: TV_Cmd    <br>\n",
    "Input 3-way valve: OTSV1 <br>\n",
    "Output Temp: TV12"
   ]
  },
  {
   "cell_type": "code",
   "execution_count": 39,
   "id": "b7cd3ff6-cf53-42b7-a9b0-d2c45c2afe09",
   "metadata": {},
   "outputs": [
    {
     "name": "stdout",
     "output_type": "stream",
     "text": [
      "\n"
     ]
    }
   ],
   "source": [
    "mini_batch_train = T(1:5000:end, :);\n",
    "mini_batch_test  = T(2:5000:end, :);\n",
    "\n",
    "u_train = table2array(mini_batch_train(:, 4));   % OTSV1\n",
    "y_train = table2array(mini_batch_train(:, 7));   % TV12\n",
    "\n",
    "u_test = table2array(mini_batch_test(:, 4));   % OTSV1\n",
    "y_test = table2array(mini_batch_test(:, 7));   % TV12"
   ]
  },
  {
   "cell_type": "markdown",
   "id": "bcbbe890-d4cc-4e32-88ea-a195109f3e18",
   "metadata": {},
   "source": [
    "## Create iddata object for Training and Testing\n",
    "data = iddata(*output*, *input*, *sampling time*)"
   ]
  },
  {
   "cell_type": "code",
   "execution_count": 41,
   "id": "cc23571b-6884-47a6-b111-86a93c36e834",
   "metadata": {},
   "outputs": [
    {
     "name": "stdout",
     "output_type": "stream",
     "text": [
      "\n",
      "ans = \n",
      "\n",
      "  struct with fields:\n",
      "\n",
      "              Domain: 'Time'\n",
      "                Name: 'mini_batch_train'\n",
      "          OutputData: [323x1 double]\n",
      "                   y: 'Same as OutputData'\n",
      "          OutputName: {'TV12'}\n",
      "          OutputUnit: {'Celsius'}\n",
      "           InputData: [323x1 double]\n",
      "                   u: 'Same as InputData'\n",
      "           InputName: {'OTSV1'}\n",
      "           InputUnit: {'Percentage'}\n",
      "              Period: Inf\n",
      "         InterSample: 'zoh'\n",
      "                  Ts: 0.0020\n",
      "              Tstart: []\n",
      "    SamplingInstants: [323x0 double]\n",
      "            TimeUnit: 'seconds'\n",
      "      ExperimentName: 'Exp1'\n",
      "               Notes: {}\n",
      "            UserData: []\n",
      "\n",
      "\n"
     ]
    }
   ],
   "source": [
    "Ts = 0.002;   % 2ms\n",
    "\n",
    "%% Training Data\n",
    "data_train = iddata(y, u, Ts);\n",
    "\n",
    "data_train.Name = 'mini_batch_train';\n",
    "data_train.TimeUnit = 'seconds';\n",
    "\n",
    "data_train.InputName = 'OTSV1';   data_train.InputUnit = 'Percentage';\n",
    "data_train.OutputName = 'TV12';   data_train.OutputUnit = 'Celsius';\n",
    "\n",
    "%% Testing Data\n",
    "data_test = iddata(y, u, Ts);\n",
    "\n",
    "data_test.Name = 'mini_batch_test';\n",
    "data_test.TimeUnit = 'seconds';\n",
    "\n",
    "data_test.InputName = 'OTSV1';   data_test.InputUnit = 'Percentage';\n",
    "data_test.OutputName = 'TV12';   data_test.OutputUnit = 'Celsius';\n",
    "\n",
    "%% Print Data\n",
    "get(data_train)"
   ]
  },
  {
   "cell_type": "markdown",
   "id": "1236bd0d-a06e-4d58-9889-dc1a99990015",
   "metadata": {},
   "source": [
    "## Check Nonlinearity"
   ]
  },
  {
   "cell_type": "code",
   "execution_count": 42,
   "id": "2d2a7286-3df7-4147-8bd0-ef888eea1b2a",
   "metadata": {},
   "outputs": [
    {
     "name": "stdout",
     "output_type": "stream",
     "text": [
      "There is an indication of nonlinearity in the data.\n",
      "A nonlinear ARX model of order [4 4 1] and treepartition nonlinearity estimator \n",
      "performs better prediction of output than the corresponding ARX model of the \n",
      "same order. Consider using nonlinear models, such as IDNLARX, or IDNLHW. You \n",
      "may also use the \"isnlarx\" command to test for nonlinearity with more options.\n",
      "\n",
      "\n"
     ]
    }
   ],
   "source": [
    "advice(data_train, 'nonlinearity')"
   ]
  },
  {
   "cell_type": "markdown",
   "id": "949f3df8-e50f-4a16-a4d9-fc38bdbf3368",
   "metadata": {},
   "source": [
    "## Plot Input-Output"
   ]
  },
  {
   "cell_type": "code",
   "execution_count": 64,
   "id": "89f824b4-432a-4e59-ba5c-16762dc5ee36",
   "metadata": {},
   "outputs": [
    {
     "name": "stdout",
     "output_type": "stream",
     "text": [
      "\n"
     ]
    },
    {
     "data": {
      "image/png": "[encoded data removed]",
      "text/plain": [
       "<IPython.core.display.Image object>"
      ]
     },
     "metadata": {},
     "output_type": "display_data"
    }
   ],
   "source": [
    "plot(data_train)"
   ]
  },
  {
   "cell_type": "markdown",
   "id": "07cb95c4-11b4-4b99-a645-4fbf66f2e272",
   "metadata": {
    "tags": []
   },
   "source": [
    "## System Identification: Transfer Function Model\n",
    "sysTF = tfest(*data*, *Num of Poles*, *Num of Zeros*)"
   ]
  },
  {
   "cell_type": "markdown",
   "id": "15408480-736a-402d-ad23-810a80c1dbb3",
   "metadata": {},
   "source": [
    "### Set estimation options"
   ]
  },
  {
   "cell_type": "code",
   "execution_count": 82,
   "id": "babbe13b-8218-4f0c-a50c-1371b2649115",
   "metadata": {},
   "outputs": [
    {
     "name": "stdout",
     "output_type": "stream",
     "text": [
      "Warning: The \"Focus\" estimation option for \"tfest\" command is obsolete and may be removed in a future release of MATLAB. Use the 'WeightingFilter' and 'EnforceStability' options instead.\n",
      "> In idoptions/tfest/checkFocus_ (line 38)\n",
      "In idoptions/GenericFocus/setFocus_ (line 71)\n",
      "In idoptions.PredSimFocus.set.Focus (line 20)\n",
      "\n"
     ]
    }
   ],
   "source": [
    "opt = tfestOptions;\n",
    "opt.InitializeMethod = 'all';\n",
    "opt.Focus = 'prediction';\n",
    "opt.SearchOptions.MaxIterations = 50; \n",
    "opt.Display = 'on';"
   ]
  },
  {
   "cell_type": "markdown",
   "id": "ad541895-ef9d-4170-b470-ad5bf6da7513",
   "metadata": {},
   "source": [
    "### Estimate TF model"
   ]
  },
  {
   "cell_type": "code",
   "execution_count": 90,
   "id": "ed519248-9122-4d38-8788-e57303a422be",
   "metadata": {},
   "outputs": [
    {
     "name": "stdout",
     "output_type": "stream",
     "text": [
      "\n",
      "sysTF =\n",
      " \n",
      "  From input \"OTSV1\" to output \"TV12\":\n",
      "       58 s + 2.611e06\n",
      "  --------------------------\n",
      "  s^2 + 5.935e05 s + 2.47e06\n",
      " \n",
      "Continuous-time identified transfer function.\n",
      "\n",
      "Parameterization:\n",
      "   Number of poles: 2   Number of zeros: 1\n",
      "   Number of free coefficients: 4\n",
      "   Use \"tfdata\", \"getpvec\", \"getcov\" for parameters and their uncertainties.\n",
      "\n",
      "Status:                                                      \n",
      "Estimated using TFEST on time domain data \"mini_batch_train\".\n",
      "Fit to estimation data: -46.02%                              \n",
      "FPE: 286.1, MSE: 275.7                                       \n",
      "\n"
     ]
    }
   ],
   "source": [
    "np = 2;          % Num of pole\n",
    "nz = 1;          % Num of zero\n",
    "iodelay = 20.0;   % In/Out delay\n",
    "\n",
    "sysTF = tfest(data_train, np, nz, opt)"
   ]
  },
  {
   "cell_type": "markdown",
   "id": "9c5058e9-506d-4b45-93a5-930e6f0ca735",
   "metadata": {},
   "source": [
    "### Advice on the estimated model"
   ]
  },
  {
   "cell_type": "code",
   "execution_count": 91,
   "id": "02f7bfac-6899-4a54-89fa-7629c7966e13",
   "metadata": {},
   "outputs": [
    {
     "name": "stdout",
     "output_type": "stream",
     "text": [
      "                                                                                                                                                                                                                                                                                                                              \n",
      "The model may be improved if more iterations in the search are used. Try, for \n",
      "example:\n",
      "   Options = sysTF.Report.OptionsUsed;\n",
      "   Options.SearchOptions.MaxIterations = 60; \n",
      "   sysTF = pem(sysTF, mini_batch_train, Options)                                                                                                 \n",
      "                                                                                                                                                                                                                                                                                                                              \n",
      "There is no indication of significant errors in the model dynamics.                                                                                                                                                                                                                                                           \n",
      "                                                                                                                                                                                                                                                                                                                              \n",
      "There is a very strong indication that the model errors are not white. Since \n",
      "you have not built a noise model, this is OK. However the model estimate might \n",
      "be improved if you also include a model of the noise. (Set 'DisturbanceModel' \n",
      "to 'Estimate' for state-space models, or use BJ or ARMAX for polynomial \n",
      "models.)\n",
      "                                                                                                                                                                                                                                                                                                                              \n",
      "There is a very strong indication of feedback in data.                                                                                                                                                                                                                                                                        \n",
      "You should be careful when interpreting the results of SPA and also interpret \n",
      "the results of output error models with care (Output error models result from \n",
      "the OE command or setting 'DisturbanceModel'= 'None' in state-space models.).                                                                                   \n",
      "                                                                                                                                                                                                                                                                                                                              \n",
      "The model order seems unnecessarily high. Try models of lower order and see if \n",
      "they are able to reproduce validation data equally well.                                                                                                                                                                                      \n",
      "                                                                                                                                                                                                                                                                                                                              \n",
      "\n"
     ]
    }
   ],
   "source": [
    "advice(sysTF, data_test)"
   ]
  },
  {
   "cell_type": "markdown",
   "id": "fb8dd4d1-f1c5-4758-9054-137830109d3b",
   "metadata": {},
   "source": [
    "### Perform Residual Analysis"
   ]
  },
  {
   "cell_type": "code",
   "execution_count": 92,
   "id": "c9bea8da-9301-4ea5-890a-9cd3cdf2dbc8",
   "metadata": {},
   "outputs": [
    {
     "name": "stdout",
     "output_type": "stream",
     "text": [
      "\n"
     ]
    },
    {
     "data": {
      "image/png": "[encoded data removed]",
      "text/plain": [
       "<IPython.core.display.Image object>"
      ]
     },
     "metadata": {},
     "output_type": "display_data"
    }
   ],
   "source": [
    "resid(data_test,sysTF)"
   ]
  },
  {
   "cell_type": "markdown",
   "id": "5eabb30d-5d7e-4f2a-9798-fdb3e37f9979",
   "metadata": {},
   "source": [
    "## System Identification: State Space Model\n",
    "sysSS = ssest(*data*, *Num of Poles*, *Num of Zeros*)"
   ]
  },
  {
   "cell_type": "markdown",
   "id": "35667571-8750-4cb4-981d-16b8f246f44c",
   "metadata": {},
   "source": [
    "## System Identification: Transfer Function Model\n",
    "sysTF = tfest(*data*, *Num of Poles*, *Num of Zeros*)### Set estimation options"
   ]
  },
  {
   "cell_type": "markdown",
   "id": "82977cc9-c844-4e43-9195-64a23dcd58c7",
   "metadata": {},
   "source": [
    "### Set estimation options"
   ]
  },
  {
   "cell_type": "code",
   "execution_count": 77,
   "id": "060cdd2a-5d7a-4fd4-bd69-336ba94299f1",
   "metadata": {},
   "outputs": [
    {
     "name": "stdout",
     "output_type": "stream",
     "text": [
      "\n"
     ]
    }
   ],
   "source": [
    "opt = ssestOptions;\n",
    "opt.InitializeMethod = 'auto';\n",
    "opt.Focus = 'prediction';\n",
    "opt.SearchOptions.MaxIterations = 50; \n",
    "opt.Display = 'on';"
   ]
  },
  {
   "cell_type": "markdown",
   "id": "587e4774-9760-42a9-8f2e-2979f49783bc",
   "metadata": {},
   "source": [
    "### Estimate TF model"
   ]
  },
  {
   "cell_type": "code",
   "execution_count": 78,
   "id": "1c9f0e53-4e92-42fd-9218-6b70f6b18df9",
   "metadata": {},
   "outputs": [
    {
     "name": "stdout",
     "output_type": "stream",
     "text": [
      "\n",
      "nx =\n",
      "\n",
      "     2\n",
      "\n",
      "\n",
      "sysSS =\n",
      "  Continuous-time identified state-space model:\n",
      "      dx/dt = A x(t) + B u(t) + K e(t)\n",
      "       y(t) = C x(t) + D u(t) + e(t)\n",
      " \n",
      "  A = \n",
      "           x1      x2\n",
      "   x1   3.781  -1.257\n",
      "   x2    37.1  -94.02\n",
      " \n",
      "  B = \n",
      "         OTSV1\n",
      "   x1  0.06481\n",
      "   x2    5.256\n",
      " \n",
      "  C = \n",
      "            x1     x2\n",
      "   TV12  503.8   -2.5\n",
      " \n",
      "  D = \n",
      "         OTSV1\n",
      "   TV12      0\n",
      " \n",
      "  K = \n",
      "         TV12\n",
      "   x1   1.643\n",
      "   x2  -9.475\n",
      " \n",
      "Parameterization:\n",
      "   FREE form (all coefficients in A, B, C free).\n",
      "   Feedthrough: none\n",
      "   Disturbance component: estimate\n",
      "   Number of free coefficients: 10\n",
      "   Use \"idssdata\", \"getpvec\", \"getcov\" for parameters and their uncertainties.\n",
      "\n",
      "Status:                                                      \n",
      "Estimated using SSEST on time domain data \"mini_batch_train\".\n",
      "Fit to estimation data: 94.26% (prediction focus)            \n",
      "FPE: 0.4473, MSE: 0.4257                                     \n",
      "\n"
     ]
    }
   ],
   "source": [
    "nx = 2\n",
    "sysSS = ssest(data_train, nx, opt)"
   ]
  },
  {
   "cell_type": "code",
   "execution_count": 89,
   "id": "77c2f3a1-7951-4e89-b27b-64ddb4c5b5fb",
   "metadata": {},
   "outputs": [
    {
     "name": "stdout",
     "output_type": "stream",
     "text": [
      "\n",
      "systf =\n",
      " \n",
      "      19.51 s - 216\n",
      "  ---------------------\n",
      "  s^2 + 90.24 s - 308.8\n",
      " \n",
      "Continuous-time transfer function.\n",
      "\n",
      "\n"
     ]
    }
   ],
   "source": [
    "[b, a] = ss2tf(sysSS.A, sysSS.B, sysSS.C, sysSS.D);\n",
    "systf = tf(b, a)"
   ]
  },
  {
   "cell_type": "markdown",
   "id": "46fea63d-17a6-4101-9ba0-4c7806c59f1b",
   "metadata": {},
   "source": [
    "### Advice on the estimated model"
   ]
  },
  {
   "cell_type": "code",
   "execution_count": 79,
   "id": "096e9c26-3980-4c17-a9ec-11cf8485f517",
   "metadata": {},
   "outputs": [
    {
     "name": "stdout",
     "output_type": "stream",
     "text": [
      "                                                                                                                                                                                                                                           \n",
      "The model may be improved if more iterations in the search are used. Try, for \n",
      "example:\n",
      "   Options = sysSS.Report.OptionsUsed;\n",
      "   Options.SearchOptions.MaxIterations = 60; \n",
      "   sysSS = pem(sysSS, mini_batch_train, Options)              \n",
      "                                                                                                                                                                                                                                           \n",
      "There is a very strong indication that the dynamics of the model is not \n",
      "adequately described.                                                                                                                                             \n",
      "                                                                                                                                                                                                                                           \n",
      "A first general advice is to run RESID(VDATA,sysSS,'FR') to check in which \n",
      "frequency ranges the model error is present. If the model error is \n",
      "unacceptable, you may have to increase the model order.                                    \n",
      "                                                                                                                                                                                                                                           \n",
      "There is a very strong indication that the residuals are not white. To get a \n",
      "good noise model you need to increase the orders associated with the noise \n",
      "parameters, or just increase the order of a state-space model.                   \n",
      "                                                                                                                                                                                                                                           \n",
      "There is a very strong indication of feedback in data.                                                                                                                                                                                     \n",
      "You should be careful when interpreting the results of SPA and also interpret \n",
      "the results of output error models with care (Output error models result from \n",
      "the OE command or setting 'DisturbanceModel'= 'None' in state-space models.).\n",
      "                                                                                                                                                                                                                                           \n",
      "The model order seems unnecessarily high. Try models of lower order and see if \n",
      "they are able to reproduce validation data equally well.                                                                                                   \n",
      "                                                                                                                                                                                                                                           \n",
      "\n"
     ]
    }
   ],
   "source": [
    "advice(sysSS, data_test)"
   ]
  },
  {
   "cell_type": "code",
   "execution_count": 80,
   "id": "372e4f8c-72a5-4ccb-9ca6-32eb5496034f",
   "metadata": {},
   "outputs": [
    {
     "name": "stdout",
     "output_type": "stream",
     "text": [
      "\n"
     ]
    },
    {
     "data": {
      "image/png": "[encoded data removed]",
      "text/plain": [
       "<IPython.core.display.Image object>"
      ]
     },
     "metadata": {},
     "output_type": "display_data"
    }
   ],
   "source": [
    "resid(data_test,sysSS)"
   ]
  },
  {
   "cell_type": "code",
   "execution_count": null,
   "id": "2c967771-89fe-4e8f-b44d-122cf715d53c",
   "metadata": {},
   "outputs": [],
   "source": []
  }
 ],
 "metadata": {
  "kernelspec": {
   "display_name": "Matlab",
   "language": "matlab",
   "name": "matlab"
  },
  "language_info": {
   "codemirror_mode": "octave",
   "file_extension": ".m",
   "help_links": [
    {
     "text": "MetaKernel Magics",
     "url": "https://metakernel.readthedocs.io/en/latest/source/README.html"
    }
   ],
   "mimetype": "text/x-octave",
   "name": "matlab",
   "version": "0.16.11"
  }
 },
 "nbformat": 4,
 "nbformat_minor": 5
}
