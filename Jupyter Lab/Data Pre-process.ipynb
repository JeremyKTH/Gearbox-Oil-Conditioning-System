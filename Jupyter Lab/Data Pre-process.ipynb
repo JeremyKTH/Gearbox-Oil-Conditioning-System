{
 "cells": [
  {
   "cell_type": "code",
   "execution_count": 1,
   "id": "3f9635cc-2ce6-4ee0-8c5e-911c2f19dda8",
   "metadata": {},
   "outputs": [],
   "source": [
    "import pandas as pd\n",
    "import numpy as np\n",
    "import matplotlib.pyplot as plt"
   ]
  },
  {
   "cell_type": "markdown",
   "id": "faf1de74-77a2-4672-805c-967311ad51bd",
   "metadata": {
    "tags": []
   },
   "source": [
    "# Import Data"
   ]
  },
  {
   "cell_type": "markdown",
   "id": "2f4ad1ef-68b7-4ccc-b521-117ab8619163",
   "metadata": {
    "jp-MarkdownHeadingCollapsed": true,
    "tags": []
   },
   "source": [
    "- **40_test** contains valve position 40 - 70 - 40 - 80 - 40 %\n",
    "- **50_test** contains valve position 40 - 90 %\n",
    "- **10_test** contains valve position 90 - 40 - 10 - 40 %\n",
    "- **0_test** contains valve position 40 - 0 - 40 %"
   ]
  },
  {
   "cell_type": "code",
   "execution_count": 7,
   "id": "94c67966-7e2d-4c72-9b50-f4c31390a9c5",
   "metadata": {},
   "outputs": [],
   "source": [
    "# === 40 - 70 - 40 - 80 - 40 % === #\n",
    "data = pd.read_csv(r'C:\\Users\\jerem\\Documents\\Python Scripts\\Scania\\Test_Data\\40_test.csv', sep=\"\\t\")\n",
    "\n",
    "# === 40 - 90 % === #\n",
    "#data = pd.read_csv(r'C:\\Users\\jerem\\Documents\\Python Scripts\\Scania\\Test_Data\\50_test.csv', sep=\"\\t\")\n",
    "\n",
    "# === 90 - 40 - 10 - 40 % === #\n",
    "#data = pd.read_csv(r'C:\\Users\\jerem\\Documents\\Python Scripts\\Scania\\Test_Data\\10_test.csv', sep=\"\\t\")\n",
    "\n",
    "# === 40 - 0 - 40 % === #\n",
    "#data = pd.read_csv(r'C:\\Users\\jerem\\Documents\\Python Scripts\\Scania\\Test_Data\\0_test.csv', sep=\"\\t\")"
   ]
  },
  {
   "cell_type": "markdown",
   "id": "c3b99413-4ca8-4080-b254-b77c2237caea",
   "metadata": {},
   "source": [
    "## Extract useful data\n",
    "- **OTSV1** : 3 way valve %\n",
    "- **TV12**  : Inlet Temp to Gearbox\n",
    "- **TV11**  : Outlet Temp from Gearbox\n",
    "- **OTGT1** : Inlet Temp to Heat Exchanger"
   ]
  },
  {
   "cell_type": "code",
   "execution_count": 8,
   "id": "14db0a31-e1ff-40f2-b2b9-94d9c53dcec2",
   "metadata": {},
   "outputs": [
    {
     "data": {
      "text/html": [
       "<div>\n",
       "<style scoped>\n",
       "    .dataframe tbody tr th:only-of-type {\n",
       "        vertical-align: middle;\n",
       "    }\n",
       "\n",
       "    .dataframe tbody tr th {\n",
       "        vertical-align: top;\n",
       "    }\n",
       "\n",
       "    .dataframe thead th {\n",
       "        text-align: right;\n",
       "    }\n",
       "</style>\n",
       "<table border=\"1\" class=\"dataframe\">\n",
       "  <thead>\n",
       "    <tr style=\"text-align: right;\">\n",
       "      <th></th>\n",
       "      <th>OTSV1</th>\n",
       "      <th>TV12</th>\n",
       "      <th>TV11</th>\n",
       "      <th>OTGT1</th>\n",
       "    </tr>\n",
       "  </thead>\n",
       "  <tbody>\n",
       "    <tr>\n",
       "      <th>0</th>\n",
       "      <td>40</td>\n",
       "      <td>48</td>\n",
       "      <td>50,36</td>\n",
       "      <td>47,94</td>\n",
       "    </tr>\n",
       "    <tr>\n",
       "      <th>1</th>\n",
       "      <td>40</td>\n",
       "      <td>48</td>\n",
       "      <td>50,36</td>\n",
       "      <td>47,94</td>\n",
       "    </tr>\n",
       "    <tr>\n",
       "      <th>2</th>\n",
       "      <td>40</td>\n",
       "      <td>48</td>\n",
       "      <td>50,36</td>\n",
       "      <td>47,94</td>\n",
       "    </tr>\n",
       "    <tr>\n",
       "      <th>3</th>\n",
       "      <td>40</td>\n",
       "      <td>48</td>\n",
       "      <td>50,36</td>\n",
       "      <td>47,94</td>\n",
       "    </tr>\n",
       "    <tr>\n",
       "      <th>4</th>\n",
       "      <td>40</td>\n",
       "      <td>48</td>\n",
       "      <td>50,36</td>\n",
       "      <td>47,94</td>\n",
       "    </tr>\n",
       "    <tr>\n",
       "      <th>...</th>\n",
       "      <td>...</td>\n",
       "      <td>...</td>\n",
       "      <td>...</td>\n",
       "      <td>...</td>\n",
       "    </tr>\n",
       "    <tr>\n",
       "      <th>1769997</th>\n",
       "      <td>40</td>\n",
       "      <td>49,04</td>\n",
       "      <td>53,71</td>\n",
       "      <td>48,67</td>\n",
       "    </tr>\n",
       "    <tr>\n",
       "      <th>1769998</th>\n",
       "      <td>40</td>\n",
       "      <td>49,04</td>\n",
       "      <td>53,71</td>\n",
       "      <td>48,67</td>\n",
       "    </tr>\n",
       "    <tr>\n",
       "      <th>1769999</th>\n",
       "      <td>40</td>\n",
       "      <td>49,04</td>\n",
       "      <td>53,71</td>\n",
       "      <td>48,67</td>\n",
       "    </tr>\n",
       "    <tr>\n",
       "      <th>1770000</th>\n",
       "      <td>40</td>\n",
       "      <td>49,04</td>\n",
       "      <td>53,7</td>\n",
       "      <td>48,67</td>\n",
       "    </tr>\n",
       "    <tr>\n",
       "      <th>1770001</th>\n",
       "      <td>40</td>\n",
       "      <td>49,04</td>\n",
       "      <td>53,7</td>\n",
       "      <td>48,67</td>\n",
       "    </tr>\n",
       "  </tbody>\n",
       "</table>\n",
       "<p>1770002 rows × 4 columns</p>\n",
       "</div>"
      ],
      "text/plain": [
       "         OTSV1   TV12   TV11  OTGT1\n",
       "0           40     48  50,36  47,94\n",
       "1           40     48  50,36  47,94\n",
       "2           40     48  50,36  47,94\n",
       "3           40     48  50,36  47,94\n",
       "4           40     48  50,36  47,94\n",
       "...        ...    ...    ...    ...\n",
       "1769997     40  49,04  53,71  48,67\n",
       "1769998     40  49,04  53,71  48,67\n",
       "1769999     40  49,04  53,71  48,67\n",
       "1770000     40  49,04   53,7  48,67\n",
       "1770001     40  49,04   53,7  48,67\n",
       "\n",
       "[1770002 rows x 4 columns]"
      ]
     },
     "execution_count": 8,
     "metadata": {},
     "output_type": "execute_result"
    }
   ],
   "source": [
    "clean_data = data[['OTSV1', 'TV12', 'TV11', 'OTGT1']]\n",
    "clean_data"
   ]
  },
  {
   "cell_type": "markdown",
   "id": "a8391804-64c8-47e3-b944-f91937df2124",
   "metadata": {},
   "source": [
    "## Change to correct data format\n",
    "comma to period for floats: TV12, TV11, OTGT1 <br>\n",
    "OTSV1 is integer --> Don't need treatment"
   ]
  },
  {
   "cell_type": "markdown",
   "id": "ca9c9352-2038-4e65-8a9f-3380f820af00",
   "metadata": {},
   "source": [
    "### TV12"
   ]
  },
  {
   "cell_type": "code",
   "execution_count": 9,
   "id": "31cafebf-e2ee-4aa8-94bb-39b5047daa5c",
   "metadata": {},
   "outputs": [
    {
     "data": {
      "text/html": [
       "<div>\n",
       "<style scoped>\n",
       "    .dataframe tbody tr th:only-of-type {\n",
       "        vertical-align: middle;\n",
       "    }\n",
       "\n",
       "    .dataframe tbody tr th {\n",
       "        vertical-align: top;\n",
       "    }\n",
       "\n",
       "    .dataframe thead th {\n",
       "        text-align: right;\n",
       "    }\n",
       "</style>\n",
       "<table border=\"1\" class=\"dataframe\">\n",
       "  <thead>\n",
       "    <tr style=\"text-align: right;\">\n",
       "      <th></th>\n",
       "      <th>TV12</th>\n",
       "    </tr>\n",
       "  </thead>\n",
       "  <tbody>\n",
       "    <tr>\n",
       "      <th>0</th>\n",
       "      <td>48</td>\n",
       "    </tr>\n",
       "    <tr>\n",
       "      <th>1</th>\n",
       "      <td>48</td>\n",
       "    </tr>\n",
       "    <tr>\n",
       "      <th>2</th>\n",
       "      <td>48</td>\n",
       "    </tr>\n",
       "    <tr>\n",
       "      <th>3</th>\n",
       "      <td>48</td>\n",
       "    </tr>\n",
       "    <tr>\n",
       "      <th>4</th>\n",
       "      <td>48</td>\n",
       "    </tr>\n",
       "    <tr>\n",
       "      <th>...</th>\n",
       "      <td>...</td>\n",
       "    </tr>\n",
       "    <tr>\n",
       "      <th>1769997</th>\n",
       "      <td>49.04</td>\n",
       "    </tr>\n",
       "    <tr>\n",
       "      <th>1769998</th>\n",
       "      <td>49.04</td>\n",
       "    </tr>\n",
       "    <tr>\n",
       "      <th>1769999</th>\n",
       "      <td>49.04</td>\n",
       "    </tr>\n",
       "    <tr>\n",
       "      <th>1770000</th>\n",
       "      <td>49.04</td>\n",
       "    </tr>\n",
       "    <tr>\n",
       "      <th>1770001</th>\n",
       "      <td>49.04</td>\n",
       "    </tr>\n",
       "  </tbody>\n",
       "</table>\n",
       "<p>1770002 rows × 1 columns</p>\n",
       "</div>"
      ],
      "text/plain": [
       "          TV12\n",
       "0           48\n",
       "1           48\n",
       "2           48\n",
       "3           48\n",
       "4           48\n",
       "...        ...\n",
       "1769997  49.04\n",
       "1769998  49.04\n",
       "1769999  49.04\n",
       "1770000  49.04\n",
       "1770001  49.04\n",
       "\n",
       "[1770002 rows x 1 columns]"
      ]
     },
     "execution_count": 9,
     "metadata": {},
     "output_type": "execute_result"
    }
   ],
   "source": [
    "for i in range(len(clean_data[['TV12']])):\n",
    "    clean_data.at[i, 'TV12'] = round(float(clean_data.at[i, 'TV12'].replace(',', '.')), 2)\n",
    "    \n",
    "clean_data[['TV12']]"
   ]
  },
  {
   "cell_type": "markdown",
   "id": "6ccfeb5e-eb9f-4419-b5f0-9e259b0acdd9",
   "metadata": {},
   "source": [
    "### TV11"
   ]
  },
  {
   "cell_type": "code",
   "execution_count": 10,
   "id": "8f86ecb9-052f-4b7d-afa0-8c2b589f14f1",
   "metadata": {},
   "outputs": [
    {
     "data": {
      "text/html": [
       "<div>\n",
       "<style scoped>\n",
       "    .dataframe tbody tr th:only-of-type {\n",
       "        vertical-align: middle;\n",
       "    }\n",
       "\n",
       "    .dataframe tbody tr th {\n",
       "        vertical-align: top;\n",
       "    }\n",
       "\n",
       "    .dataframe thead th {\n",
       "        text-align: right;\n",
       "    }\n",
       "</style>\n",
       "<table border=\"1\" class=\"dataframe\">\n",
       "  <thead>\n",
       "    <tr style=\"text-align: right;\">\n",
       "      <th></th>\n",
       "      <th>TV11</th>\n",
       "    </tr>\n",
       "  </thead>\n",
       "  <tbody>\n",
       "    <tr>\n",
       "      <th>0</th>\n",
       "      <td>50.36</td>\n",
       "    </tr>\n",
       "    <tr>\n",
       "      <th>1</th>\n",
       "      <td>50.36</td>\n",
       "    </tr>\n",
       "    <tr>\n",
       "      <th>2</th>\n",
       "      <td>50.36</td>\n",
       "    </tr>\n",
       "    <tr>\n",
       "      <th>3</th>\n",
       "      <td>50.36</td>\n",
       "    </tr>\n",
       "    <tr>\n",
       "      <th>4</th>\n",
       "      <td>50.36</td>\n",
       "    </tr>\n",
       "    <tr>\n",
       "      <th>...</th>\n",
       "      <td>...</td>\n",
       "    </tr>\n",
       "    <tr>\n",
       "      <th>1769997</th>\n",
       "      <td>53.71</td>\n",
       "    </tr>\n",
       "    <tr>\n",
       "      <th>1769998</th>\n",
       "      <td>53.71</td>\n",
       "    </tr>\n",
       "    <tr>\n",
       "      <th>1769999</th>\n",
       "      <td>53.71</td>\n",
       "    </tr>\n",
       "    <tr>\n",
       "      <th>1770000</th>\n",
       "      <td>53.7</td>\n",
       "    </tr>\n",
       "    <tr>\n",
       "      <th>1770001</th>\n",
       "      <td>53.7</td>\n",
       "    </tr>\n",
       "  </tbody>\n",
       "</table>\n",
       "<p>1770002 rows × 1 columns</p>\n",
       "</div>"
      ],
      "text/plain": [
       "          TV11\n",
       "0        50.36\n",
       "1        50.36\n",
       "2        50.36\n",
       "3        50.36\n",
       "4        50.36\n",
       "...        ...\n",
       "1769997  53.71\n",
       "1769998  53.71\n",
       "1769999  53.71\n",
       "1770000   53.7\n",
       "1770001   53.7\n",
       "\n",
       "[1770002 rows x 1 columns]"
      ]
     },
     "execution_count": 10,
     "metadata": {},
     "output_type": "execute_result"
    }
   ],
   "source": [
    "for i in range(len(clean_data[['TV11']])):\n",
    "    clean_data.at[i, 'TV11'] = round(float(clean_data.at[i, 'TV11'].replace(',', '.')), 2)\n",
    "\n",
    "clean_data[['TV11']]"
   ]
  },
  {
   "cell_type": "markdown",
   "id": "4859bde9-dfb0-4993-94fc-0f76cf53bd9a",
   "metadata": {},
   "source": [
    "### OTGT1"
   ]
  },
  {
   "cell_type": "code",
   "execution_count": 11,
   "id": "e3a29089-b83e-4492-ad47-97e00a677b3a",
   "metadata": {},
   "outputs": [
    {
     "data": {
      "text/html": [
       "<div>\n",
       "<style scoped>\n",
       "    .dataframe tbody tr th:only-of-type {\n",
       "        vertical-align: middle;\n",
       "    }\n",
       "\n",
       "    .dataframe tbody tr th {\n",
       "        vertical-align: top;\n",
       "    }\n",
       "\n",
       "    .dataframe thead th {\n",
       "        text-align: right;\n",
       "    }\n",
       "</style>\n",
       "<table border=\"1\" class=\"dataframe\">\n",
       "  <thead>\n",
       "    <tr style=\"text-align: right;\">\n",
       "      <th></th>\n",
       "      <th>OTGT1</th>\n",
       "    </tr>\n",
       "  </thead>\n",
       "  <tbody>\n",
       "    <tr>\n",
       "      <th>0</th>\n",
       "      <td>47.94</td>\n",
       "    </tr>\n",
       "    <tr>\n",
       "      <th>1</th>\n",
       "      <td>47.94</td>\n",
       "    </tr>\n",
       "    <tr>\n",
       "      <th>2</th>\n",
       "      <td>47.94</td>\n",
       "    </tr>\n",
       "    <tr>\n",
       "      <th>3</th>\n",
       "      <td>47.94</td>\n",
       "    </tr>\n",
       "    <tr>\n",
       "      <th>4</th>\n",
       "      <td>47.94</td>\n",
       "    </tr>\n",
       "    <tr>\n",
       "      <th>...</th>\n",
       "      <td>...</td>\n",
       "    </tr>\n",
       "    <tr>\n",
       "      <th>1769997</th>\n",
       "      <td>48.67</td>\n",
       "    </tr>\n",
       "    <tr>\n",
       "      <th>1769998</th>\n",
       "      <td>48.67</td>\n",
       "    </tr>\n",
       "    <tr>\n",
       "      <th>1769999</th>\n",
       "      <td>48.67</td>\n",
       "    </tr>\n",
       "    <tr>\n",
       "      <th>1770000</th>\n",
       "      <td>48.67</td>\n",
       "    </tr>\n",
       "    <tr>\n",
       "      <th>1770001</th>\n",
       "      <td>48.67</td>\n",
       "    </tr>\n",
       "  </tbody>\n",
       "</table>\n",
       "<p>1770002 rows × 1 columns</p>\n",
       "</div>"
      ],
      "text/plain": [
       "         OTGT1\n",
       "0        47.94\n",
       "1        47.94\n",
       "2        47.94\n",
       "3        47.94\n",
       "4        47.94\n",
       "...        ...\n",
       "1769997  48.67\n",
       "1769998  48.67\n",
       "1769999  48.67\n",
       "1770000  48.67\n",
       "1770001  48.67\n",
       "\n",
       "[1770002 rows x 1 columns]"
      ]
     },
     "execution_count": 11,
     "metadata": {},
     "output_type": "execute_result"
    }
   ],
   "source": [
    "for i in range(len(clean_data[['OTGT1']])):\n",
    "    clean_data.at[i, 'OTGT1'] = round(float(clean_data.at[i, 'OTGT1'].replace(',', '.')), 2)\n",
    "    \n",
    "clean_data[['OTGT1']]"
   ]
  },
  {
   "cell_type": "code",
   "execution_count": 12,
   "id": "40067dad-8b43-49ec-9047-f52f66b05ba3",
   "metadata": {},
   "outputs": [
    {
     "data": {
      "text/html": [
       "<div>\n",
       "<style scoped>\n",
       "    .dataframe tbody tr th:only-of-type {\n",
       "        vertical-align: middle;\n",
       "    }\n",
       "\n",
       "    .dataframe tbody tr th {\n",
       "        vertical-align: top;\n",
       "    }\n",
       "\n",
       "    .dataframe thead th {\n",
       "        text-align: right;\n",
       "    }\n",
       "</style>\n",
       "<table border=\"1\" class=\"dataframe\">\n",
       "  <thead>\n",
       "    <tr style=\"text-align: right;\">\n",
       "      <th></th>\n",
       "      <th>OTSV1</th>\n",
       "      <th>TV12</th>\n",
       "      <th>TV11</th>\n",
       "      <th>OTGT1</th>\n",
       "    </tr>\n",
       "  </thead>\n",
       "  <tbody>\n",
       "    <tr>\n",
       "      <th>0</th>\n",
       "      <td>40</td>\n",
       "      <td>48</td>\n",
       "      <td>50.36</td>\n",
       "      <td>47.94</td>\n",
       "    </tr>\n",
       "    <tr>\n",
       "      <th>1</th>\n",
       "      <td>40</td>\n",
       "      <td>48</td>\n",
       "      <td>50.36</td>\n",
       "      <td>47.94</td>\n",
       "    </tr>\n",
       "    <tr>\n",
       "      <th>2</th>\n",
       "      <td>40</td>\n",
       "      <td>48</td>\n",
       "      <td>50.36</td>\n",
       "      <td>47.94</td>\n",
       "    </tr>\n",
       "    <tr>\n",
       "      <th>3</th>\n",
       "      <td>40</td>\n",
       "      <td>48</td>\n",
       "      <td>50.36</td>\n",
       "      <td>47.94</td>\n",
       "    </tr>\n",
       "    <tr>\n",
       "      <th>4</th>\n",
       "      <td>40</td>\n",
       "      <td>48</td>\n",
       "      <td>50.36</td>\n",
       "      <td>47.94</td>\n",
       "    </tr>\n",
       "    <tr>\n",
       "      <th>...</th>\n",
       "      <td>...</td>\n",
       "      <td>...</td>\n",
       "      <td>...</td>\n",
       "      <td>...</td>\n",
       "    </tr>\n",
       "    <tr>\n",
       "      <th>1769997</th>\n",
       "      <td>40</td>\n",
       "      <td>49.04</td>\n",
       "      <td>53.71</td>\n",
       "      <td>48.67</td>\n",
       "    </tr>\n",
       "    <tr>\n",
       "      <th>1769998</th>\n",
       "      <td>40</td>\n",
       "      <td>49.04</td>\n",
       "      <td>53.71</td>\n",
       "      <td>48.67</td>\n",
       "    </tr>\n",
       "    <tr>\n",
       "      <th>1769999</th>\n",
       "      <td>40</td>\n",
       "      <td>49.04</td>\n",
       "      <td>53.71</td>\n",
       "      <td>48.67</td>\n",
       "    </tr>\n",
       "    <tr>\n",
       "      <th>1770000</th>\n",
       "      <td>40</td>\n",
       "      <td>49.04</td>\n",
       "      <td>53.7</td>\n",
       "      <td>48.67</td>\n",
       "    </tr>\n",
       "    <tr>\n",
       "      <th>1770001</th>\n",
       "      <td>40</td>\n",
       "      <td>49.04</td>\n",
       "      <td>53.7</td>\n",
       "      <td>48.67</td>\n",
       "    </tr>\n",
       "  </tbody>\n",
       "</table>\n",
       "<p>1770002 rows × 4 columns</p>\n",
       "</div>"
      ],
      "text/plain": [
       "         OTSV1   TV12   TV11  OTGT1\n",
       "0           40     48  50.36  47.94\n",
       "1           40     48  50.36  47.94\n",
       "2           40     48  50.36  47.94\n",
       "3           40     48  50.36  47.94\n",
       "4           40     48  50.36  47.94\n",
       "...        ...    ...    ...    ...\n",
       "1769997     40  49.04  53.71  48.67\n",
       "1769998     40  49.04  53.71  48.67\n",
       "1769999     40  49.04  53.71  48.67\n",
       "1770000     40  49.04   53.7  48.67\n",
       "1770001     40  49.04   53.7  48.67\n",
       "\n",
       "[1770002 rows x 4 columns]"
      ]
     },
     "execution_count": 12,
     "metadata": {},
     "output_type": "execute_result"
    }
   ],
   "source": [
    "# === c_40_test ===#\n",
    "clean_data.to_csv(r'C:\\Users\\jerem\\Documents\\Python Scripts\\Scania\\Test_Data\\Clean_Data\\c_40_test.csv', index=False, encoding='utf-8')\n",
    "\n",
    "# === c_50_test ===#\n",
    "#clean_data.to_csv(r'C:\\Users\\jerem\\Documents\\Python Scripts\\Scania\\Test_Data\\Clean_Data\\c_50_test.csv', index=False, encoding='utf-8')\n",
    "\n",
    "# === c_10_test ===#\n",
    "#clean_data.to_csv(r'C:\\Users\\jerem\\Documents\\Python Scripts\\Scania\\Test_Data\\Clean_Data\\c_10_test.csv', index=False, encoding='utf-8')\n",
    "\n",
    "# === c_0_test ===#\n",
    "#clean_data.to_csv(r'C:\\Users\\jerem\\Documents\\Python Scripts\\Scania\\Test_Data\\Clean_Data\\c_0_test.csv', index=False, encoding='utf-8')\n",
    "\n",
    "clean_data"
   ]
  },
  {
   "cell_type": "markdown",
   "id": "d9c5d48f-801c-4680-9628-89330b89724b",
   "metadata": {},
   "source": [
    "## Import Data"
   ]
  },
  {
   "cell_type": "markdown",
   "id": "3711e60f-ad94-4cad-8469-303b3926a856",
   "metadata": {
    "tags": []
   },
   "source": [
    "## Extract useful data\n",
    "- OTSV1: 3 way valve %\n",
    "- TV12 : Inlet Temp to Gearbox\n",
    "- TV11 : Outlet Temp from Gearbox\n",
    "- OTGT1: Inlet Temp to Heat Exchanger"
   ]
  },
  {
   "cell_type": "code",
   "execution_count": 13,
   "id": "09fed8da-4e8b-46a7-8ae3-4e2d8152081e",
   "metadata": {},
   "outputs": [
    {
     "data": {
      "text/html": [
       "<div>\n",
       "<style scoped>\n",
       "    .dataframe tbody tr th:only-of-type {\n",
       "        vertical-align: middle;\n",
       "    }\n",
       "\n",
       "    .dataframe tbody tr th {\n",
       "        vertical-align: top;\n",
       "    }\n",
       "\n",
       "    .dataframe thead th {\n",
       "        text-align: right;\n",
       "    }\n",
       "</style>\n",
       "<table border=\"1\" class=\"dataframe\">\n",
       "  <thead>\n",
       "    <tr style=\"text-align: right;\">\n",
       "      <th></th>\n",
       "      <th>OTSV1</th>\n",
       "      <th>TV12</th>\n",
       "      <th>TV11</th>\n",
       "      <th>OTGT1</th>\n",
       "    </tr>\n",
       "  </thead>\n",
       "  <tbody>\n",
       "    <tr>\n",
       "      <th>0</th>\n",
       "      <td>40</td>\n",
       "      <td>48</td>\n",
       "      <td>50,36</td>\n",
       "      <td>47,94</td>\n",
       "    </tr>\n",
       "    <tr>\n",
       "      <th>1</th>\n",
       "      <td>40</td>\n",
       "      <td>48</td>\n",
       "      <td>50,36</td>\n",
       "      <td>47,94</td>\n",
       "    </tr>\n",
       "    <tr>\n",
       "      <th>2</th>\n",
       "      <td>40</td>\n",
       "      <td>48</td>\n",
       "      <td>50,36</td>\n",
       "      <td>47,94</td>\n",
       "    </tr>\n",
       "    <tr>\n",
       "      <th>3</th>\n",
       "      <td>40</td>\n",
       "      <td>48</td>\n",
       "      <td>50,36</td>\n",
       "      <td>47,94</td>\n",
       "    </tr>\n",
       "    <tr>\n",
       "      <th>4</th>\n",
       "      <td>40</td>\n",
       "      <td>48</td>\n",
       "      <td>50,36</td>\n",
       "      <td>47,94</td>\n",
       "    </tr>\n",
       "    <tr>\n",
       "      <th>...</th>\n",
       "      <td>...</td>\n",
       "      <td>...</td>\n",
       "      <td>...</td>\n",
       "      <td>...</td>\n",
       "    </tr>\n",
       "    <tr>\n",
       "      <th>1769997</th>\n",
       "      <td>40</td>\n",
       "      <td>49,04</td>\n",
       "      <td>53,71</td>\n",
       "      <td>48,67</td>\n",
       "    </tr>\n",
       "    <tr>\n",
       "      <th>1769998</th>\n",
       "      <td>40</td>\n",
       "      <td>49,04</td>\n",
       "      <td>53,71</td>\n",
       "      <td>48,67</td>\n",
       "    </tr>\n",
       "    <tr>\n",
       "      <th>1769999</th>\n",
       "      <td>40</td>\n",
       "      <td>49,04</td>\n",
       "      <td>53,71</td>\n",
       "      <td>48,67</td>\n",
       "    </tr>\n",
       "    <tr>\n",
       "      <th>1770000</th>\n",
       "      <td>40</td>\n",
       "      <td>49,04</td>\n",
       "      <td>53,7</td>\n",
       "      <td>48,67</td>\n",
       "    </tr>\n",
       "    <tr>\n",
       "      <th>1770001</th>\n",
       "      <td>40</td>\n",
       "      <td>49,04</td>\n",
       "      <td>53,7</td>\n",
       "      <td>48,67</td>\n",
       "    </tr>\n",
       "  </tbody>\n",
       "</table>\n",
       "<p>1770002 rows × 4 columns</p>\n",
       "</div>"
      ],
      "text/plain": [
       "         OTSV1   TV12   TV11  OTGT1\n",
       "0           40     48  50,36  47,94\n",
       "1           40     48  50,36  47,94\n",
       "2           40     48  50,36  47,94\n",
       "3           40     48  50,36  47,94\n",
       "4           40     48  50,36  47,94\n",
       "...        ...    ...    ...    ...\n",
       "1769997     40  49,04  53,71  48,67\n",
       "1769998     40  49,04  53,71  48,67\n",
       "1769999     40  49,04  53,71  48,67\n",
       "1770000     40  49,04   53,7  48,67\n",
       "1770001     40  49,04   53,7  48,67\n",
       "\n",
       "[1770002 rows x 4 columns]"
      ]
     },
     "execution_count": 13,
     "metadata": {},
     "output_type": "execute_result"
    }
   ],
   "source": [
    "clean_data = data[['OTSV1', 'TV12', 'TV11', 'OTGT1']]\n",
    "clean_data"
   ]
  },
  {
   "cell_type": "markdown",
   "id": "a459d14d-ce82-46e1-a145-91c471067f51",
   "metadata": {
    "tags": []
   },
   "source": [
    "# Reorder Data"
   ]
  },
  {
   "cell_type": "markdown",
   "id": "52d70731-9df2-4ae6-a692-c686e3c421e1",
   "metadata": {},
   "source": [
    "<div class=\"alert-info\">\n",
    "Original sampling time 2ms <br>\n",
    "To reduce the amount of data, change it to 1s <br>\n",
    "</div>"
   ]
  },
  {
   "cell_type": "markdown",
   "id": "29077e03-2f8f-44d6-8ddb-c5a0f8141b86",
   "metadata": {},
   "source": [
    "Reorder the dataset into 3 different parts: <br>\n",
    "- 40 - 70 - 40 - 10 - 40 $\\quad$ ($\\pm$ 30%)\n",
    "- 40 - 80 - 40 - 00 - 40 $\\quad$ ($\\pm$ 40%)\n",
    "- 40 - 90 - 40 - 00 - 40 $\\quad$ ($\\pm$ 50%)"
   ]
  },
  {
   "cell_type": "markdown",
   "id": "7a8ceb2c-a5f4-4a10-b2e6-610b2ffffc26",
   "metadata": {
    "tags": []
   },
   "source": [
    "## 1. c_40_test\n",
    "Cut into 2 parts: <br>\n",
    "- **D_474**: ( 40 - 70 - 40 )\n",
    "- **D_484**: ( 40 - 80 - 40 )"
   ]
  },
  {
   "cell_type": "code",
   "execution_count": 23,
   "id": "90e94082-2ec3-4af9-ae6b-c2fd8a1b99de",
   "metadata": {},
   "outputs": [
    {
     "data": {
      "text/plain": [
       "<AxesSubplot:>"
      ]
     },
     "execution_count": 23,
     "metadata": {},
     "output_type": "execute_result"
    },
    {
     "data": {
      "image/png": "[encoded data removed]",
      "text/plain": [
       "<Figure size 432x288 with 1 Axes>"
      ]
     },
     "metadata": {
      "needs_background": "light"
     },
     "output_type": "display_data"
    }
   ],
   "source": [
    "# === 40 - 70 - 40 - 80 - 40 % === #\n",
    "c_40_data = pd.read_csv(r'C:\\Users\\jerem\\Documents\\Python Scripts\\Scania\\Test_Data\\Clean_Data\\c_40_test.csv', sep=\",\")\n",
    "\n",
    "c_40_data = c_40_data[['OTSV1', 'TV12', 'TV11']].iloc[::500,:]\n",
    "c_40_data.reset_index(drop=True, inplace = True)\n",
    "c_40_data.plot()"
   ]
  },
  {
   "cell_type": "code",
   "execution_count": 24,
   "id": "6651c079-bbfd-4587-94a1-e1f1a69fa360",
   "metadata": {},
   "outputs": [
    {
     "data": {
      "text/plain": [
       "<AxesSubplot:>"
      ]
     },
     "execution_count": 24,
     "metadata": {},
     "output_type": "execute_result"
    },
    {
     "data": {
      "image/png": "[encoded data removed]",
      "text/plain": [
       "<Figure size 432x288 with 1 Axes>"
      ]
     },
     "metadata": {
      "needs_background": "light"
     },
     "output_type": "display_data"
    }
   ],
   "source": [
    "D_474 = c_40_data[['OTSV1', 'TV12', 'TV11']].iloc[0:800,:]\n",
    "D_474.plot()"
   ]
  },
  {
   "cell_type": "code",
   "execution_count": 25,
   "id": "d897443d-9976-4aa5-ab2c-4eff22727a6f",
   "metadata": {},
   "outputs": [
    {
     "data": {
      "text/plain": [
       "<AxesSubplot:>"
      ]
     },
     "execution_count": 25,
     "metadata": {},
     "output_type": "execute_result"
    },
    {
     "data": {
      "image/png": "[encoded data removed]",
      "text/plain": [
       "<Figure size 432x288 with 1 Axes>"
      ]
     },
     "metadata": {
      "needs_background": "light"
     },
     "output_type": "display_data"
    }
   ],
   "source": [
    "D_484 = c_40_data[['OTSV1', 'TV12', 'TV11']].iloc[801::,:]\n",
    "D_484.plot()"
   ]
  },
  {
   "cell_type": "markdown",
   "id": "e74ebb1e-8dbf-4b1e-bbaa-1457b4f83e98",
   "metadata": {},
   "source": [
    "## 2. c_10_test\n",
    "Cut into 2 parts: <br>\n",
    "- **D_94** : ( 90 - 40 )\n",
    "- **D_414**: ( 40 - 10 - 40 )"
   ]
  },
  {
   "cell_type": "code",
   "execution_count": 26,
   "id": "1ba946f4-9bf0-4374-80c2-6aee436deb01",
   "metadata": {},
   "outputs": [
    {
     "data": {
      "text/plain": [
       "<AxesSubplot:>"
      ]
     },
     "execution_count": 26,
     "metadata": {},
     "output_type": "execute_result"
    },
    {
     "data": {
      "image/png": "[encoded data removed]",
      "text/plain": [
       "<Figure size 432x288 with 1 Axes>"
      ]
     },
     "metadata": {
      "needs_background": "light"
     },
     "output_type": "display_data"
    }
   ],
   "source": [
    "# === c_10_test === #\n",
    "c_10_data = pd.read_csv(r'C:\\Users\\jerem\\Documents\\Python Scripts\\Scania\\Test_Data\\Clean_Data\\c_10_test.csv', sep=\",\")\n",
    "\n",
    "c_10_data = c_10_data[['OTSV1', 'TV12', 'TV11']].iloc[::500,:]\n",
    "c_10_data.reset_index(drop=True, inplace = True)\n",
    "c_10_data.plot()"
   ]
  },
  {
   "cell_type": "code",
   "execution_count": 27,
   "id": "f8600117-d4f8-433b-ac0c-0ef05ecaae0e",
   "metadata": {},
   "outputs": [
    {
     "data": {
      "text/plain": [
       "<AxesSubplot:>"
      ]
     },
     "execution_count": 27,
     "metadata": {},
     "output_type": "execute_result"
    },
    {
     "data": {
      "image/png": "[encoded data removed]",
      "text/plain": [
       "<Figure size 432x288 with 1 Axes>"
      ]
     },
     "metadata": {
      "needs_background": "light"
     },
     "output_type": "display_data"
    }
   ],
   "source": [
    "D_94 = c_10_data[['OTSV1', 'TV12', 'TV11']].iloc[0:1540,:]\n",
    "D_94.plot()"
   ]
  },
  {
   "cell_type": "code",
   "execution_count": 28,
   "id": "7e18b506-9ef0-443e-b480-c61adcb1381e",
   "metadata": {},
   "outputs": [
    {
     "data": {
      "text/plain": [
       "<AxesSubplot:>"
      ]
     },
     "execution_count": 28,
     "metadata": {},
     "output_type": "execute_result"
    },
    {
     "data": {
      "image/png": "[encoded data removed]",
      "text/plain": [
       "<Figure size 432x288 with 1 Axes>"
      ]
     },
     "metadata": {
      "needs_background": "light"
     },
     "output_type": "display_data"
    }
   ],
   "source": [
    "D_414 = c_10_data[['OTSV1', 'TV12', 'TV11']].iloc[1541::,:]\n",
    "D_414.plot()"
   ]
  },
  {
   "cell_type": "markdown",
   "id": "c315e082-4f39-467e-b788-e0b25bb7b0d6",
   "metadata": {},
   "source": [
    "## 3. c_50_test $\\&$ c_0_test"
   ]
  },
  {
   "cell_type": "markdown",
   "id": "2c11296a-0218-4297-ad9f-8e3b3e71b878",
   "metadata": {},
   "source": [
    "- **D_49** : 40 - 90 %\n",
    "- **D_404**: 40 - 0 - 40 %"
   ]
  },
  {
   "cell_type": "code",
   "execution_count": 29,
   "id": "ab86ddc0-4d4b-48a5-acc4-f8634dc8a417",
   "metadata": {},
   "outputs": [
    {
     "data": {
      "text/plain": [
       "<AxesSubplot:>"
      ]
     },
     "execution_count": 29,
     "metadata": {},
     "output_type": "execute_result"
    },
    {
     "data": {
      "image/png": "[encoded data removed]",
      "text/plain": [
       "<Figure size 432x288 with 1 Axes>"
      ]
     },
     "metadata": {
      "needs_background": "light"
     },
     "output_type": "display_data"
    }
   ],
   "source": [
    "# === c_50_test === #\n",
    "c_50_data = pd.read_csv(r'C:\\Users\\jerem\\Documents\\Python Scripts\\Scania\\Test_Data\\Clean_Data\\c_50_test.csv', sep=\",\")\n",
    "\n",
    "D_49 = c_50_data[['OTSV1', 'TV12', 'TV11']].iloc[::500,:]\n",
    "D_49.reset_index(drop=True, inplace = True)\n",
    "D_49.plot()"
   ]
  },
  {
   "cell_type": "code",
   "execution_count": 30,
   "id": "d433ad64-2d26-48cf-a2f2-60de951068c5",
   "metadata": {},
   "outputs": [
    {
     "data": {
      "text/plain": [
       "<AxesSubplot:>"
      ]
     },
     "execution_count": 30,
     "metadata": {},
     "output_type": "execute_result"
    },
    {
     "data": {
      "image/png": "[encoded data removed]",
      "text/plain": [
       "<Figure size 432x288 with 1 Axes>"
      ]
     },
     "metadata": {
      "needs_background": "light"
     },
     "output_type": "display_data"
    }
   ],
   "source": [
    "# === c_0_test === #\n",
    "c_0_data = pd.read_csv(r'C:\\Users\\jerem\\Documents\\Python Scripts\\Scania\\Test_Data\\Clean_Data\\c_0_test.csv', sep=\",\")\n",
    "\n",
    "D_404 = c_0_data[['OTSV1', 'TV12', 'TV11']].iloc[::500,:]\n",
    "D_404.reset_index(drop=True, inplace = True)\n",
    "D_404.plot()"
   ]
  },
  {
   "cell_type": "markdown",
   "id": "f3fb9fad-f586-491f-9062-2a0bb5e7bed2",
   "metadata": {},
   "source": [
    "## 4. Create new datasets"
   ]
  },
  {
   "cell_type": "markdown",
   "id": "3c468fd1-06ba-4dc3-93d1-81f860c7abc1",
   "metadata": {},
   "source": [
    "- **D_47414** : 40 - 70 - 40 - 10 - 40 % $\\quad$ ($ \\pm 30 %$)\n",
    "- **D_48404** : 40 - 80 - 40 - 00 - 40 % $\\quad$ ($ \\pm 40 %$)\n",
    "- **D_49404** : 40 - 90 - 40 - 00 - 40 % $\\quad$ ($\\pm 50 %$)"
   ]
  },
  {
   "cell_type": "code",
   "execution_count": 31,
   "id": "6648881c-8a53-4c1c-86f8-1fe6e707e277",
   "metadata": {},
   "outputs": [
    {
     "data": {
      "text/plain": [
       "<AxesSubplot:>"
      ]
     },
     "execution_count": 31,
     "metadata": {},
     "output_type": "execute_result"
    },
    {
     "data": {
      "image/png": "[encoded data removed]",
      "text/plain": [
       "<Figure size 432x288 with 1 Axes>"
      ]
     },
     "metadata": {
      "needs_background": "light"
     },
     "output_type": "display_data"
    }
   ],
   "source": [
    "D_47414 = pd.concat([D_474, D_414], ignore_index = True)\n",
    "D_47414.plot()"
   ]
  },
  {
   "cell_type": "code",
   "execution_count": 32,
   "id": "f8a1a330-c5eb-4b4e-9c40-feeb85c65c81",
   "metadata": {},
   "outputs": [
    {
     "data": {
      "text/plain": [
       "<AxesSubplot:>"
      ]
     },
     "execution_count": 32,
     "metadata": {},
     "output_type": "execute_result"
    },
    {
     "data": {
      "image/png": "[encoded data removed]",
      "text/plain": [
       "<Figure size 432x288 with 1 Axes>"
      ]
     },
     "metadata": {
      "needs_background": "light"
     },
     "output_type": "display_data"
    }
   ],
   "source": [
    "D_48404 = pd.concat([D_484, D_404], ignore_index = True)\n",
    "D_48404.plot()"
   ]
  },
  {
   "cell_type": "code",
   "execution_count": 33,
   "id": "9deddbf6-c606-4f87-ad81-d094153a7edc",
   "metadata": {},
   "outputs": [
    {
     "data": {
      "text/plain": [
       "<AxesSubplot:>"
      ]
     },
     "execution_count": 33,
     "metadata": {},
     "output_type": "execute_result"
    },
    {
     "data": {
      "image/png": "[encoded data removed]",
      "text/plain": [
       "<Figure size 432x288 with 1 Axes>"
      ]
     },
     "metadata": {
      "needs_background": "light"
     },
     "output_type": "display_data"
    }
   ],
   "source": [
    "D_49404 = pd.concat([D_49, D_94, D_404], ignore_index = True)\n",
    "D_49404.plot()"
   ]
  },
  {
   "cell_type": "markdown",
   "id": "f7cb56dd-7b96-4575-af2c-983e0f269f33",
   "metadata": {},
   "source": [
    "## 5. Save the new datasets"
   ]
  },
  {
   "cell_type": "code",
   "execution_count": 34,
   "id": "bb4a6518-9f0a-402d-a822-2373a4ef903d",
   "metadata": {},
   "outputs": [],
   "source": [
    "# === D_47414 === #\n",
    "D_47414.to_csv(r'C:\\Users\\jerem\\Documents\\Python Scripts\\Scania\\Test_Data\\Partition_Data\\D_47414.csv', index=False, encoding='utf-8')\n",
    "\n",
    "# === D_48404 === #\n",
    "D_48404.to_csv(r'C:\\Users\\jerem\\Documents\\Python Scripts\\Scania\\Test_Data\\Partition_Data\\D_48404.csv', index=False, encoding='utf-8')\n",
    "\n",
    "# === D_49404 === #\n",
    "D_49404.to_csv(r'C:\\Users\\jerem\\Documents\\Python Scripts\\Scania\\Test_Data\\Partition_Data\\D_49404.csv', index=False, encoding='utf-8')"
   ]
  },
  {
   "cell_type": "markdown",
   "id": "34e1dbbb-9d3a-4918-87a4-fa30c9ac70e4",
   "metadata": {
    "tags": []
   },
   "source": [
    "# Create training and testing datasets"
   ]
  },
  {
   "cell_type": "markdown",
   "id": "5e3fa3d1-f6b8-4f4f-bd83-27725919a1d5",
   "metadata": {},
   "source": [
    "## D_47414"
   ]
  },
  {
   "cell_type": "code",
   "execution_count": 35,
   "id": "bdba0f79-eb11-4050-bfc0-4122ff4f4bd8",
   "metadata": {},
   "outputs": [],
   "source": [
    "D_47414 = pd.read_csv(r'C:\\Users\\jerem\\Documents\\Python Scripts\\Scania\\Test_Data\\Partition_Data\\D_47414.csv', sep=\",\")\n",
    "\n",
    "D_47414_train = D_47414.iloc[::2]  # even\n",
    "D_47414_test  = D_47414.iloc[1::2] # odd\n",
    "\n",
    "D_47414_train.to_csv(r'C:\\Users\\jerem\\Documents\\Python Scripts\\Scania\\Test_Data\\Training_Data\\D_47414_train.csv', index=False, encoding='utf-8')  # train\n",
    "D_47414_test.to_csv(r'C:\\Users\\jerem\\Documents\\Python Scripts\\Scania\\Test_Data\\Testing_Data\\D_47414_test.csv', index=False, encoding='utf-8')     # test"
   ]
  },
  {
   "cell_type": "markdown",
   "id": "be61dfc2-35cd-42de-af7b-5569f64a3467",
   "metadata": {},
   "source": [
    "## D_48404"
   ]
  },
  {
   "cell_type": "code",
   "execution_count": 36,
   "id": "e870de58-cf67-4caa-bd7d-3b45f6fff44d",
   "metadata": {},
   "outputs": [],
   "source": [
    "D_48404 = pd.read_csv(r'C:\\Users\\jerem\\Documents\\Python Scripts\\Scania\\Test_Data\\Partition_Data\\D_48404.csv', sep=\",\")\n",
    "\n",
    "D_48404_train = D_48404.iloc[::2]  # even\n",
    "D_48404_test  = D_48404.iloc[1::2] # odd\n",
    "\n",
    "D_48404_train.to_csv(r'C:\\Users\\jerem\\Documents\\Python Scripts\\Scania\\Test_Data\\Training_Data\\D_48404_train.csv', index=False, encoding='utf-8')  # traing\n",
    "D_48404_test.to_csv(r'C:\\Users\\jerem\\Documents\\Python Scripts\\Scania\\Test_Data\\Testing_Data\\D_48404_test.csv', index=False, encoding='utf-8')     # test"
   ]
  },
  {
   "cell_type": "markdown",
   "id": "3075805d-2be6-4d83-bc98-d7b8442b6359",
   "metadata": {},
   "source": [
    "## D_49404"
   ]
  },
  {
   "cell_type": "code",
   "execution_count": 37,
   "id": "ca6a54d1-19b5-488d-a30d-d38f6729dd65",
   "metadata": {},
   "outputs": [],
   "source": [
    "D_49404 = pd.read_csv(r'C:\\Users\\jerem\\Documents\\Python Scripts\\Scania\\Test_Data\\Partition_Data\\D_49404.csv', sep=\",\")\n",
    "\n",
    "D_49404_train = D_49404.iloc[::2]  # even\n",
    "D_49404_test  = D_49404.iloc[1::2] # odd\n",
    "\n",
    "D_49404_train.to_csv(r'C:\\Users\\jerem\\Documents\\Python Scripts\\Scania\\Test_Data\\Training_Data\\D_49404_train.csv', index=False, encoding='utf-8')  # train\n",
    "D_49404_test.to_csv(r'C:\\Users\\jerem\\Documents\\Python Scripts\\Scania\\Test_Data\\Testing_Data\\D_49404_test.csv', index=False, encoding='utf-8')     # test"
   ]
  },
  {
   "cell_type": "code",
   "execution_count": null,
   "id": "1689783d-a217-448e-a6c3-ced8d8283f3b",
   "metadata": {},
   "outputs": [],
   "source": []
  }
 ],
 "metadata": {
  "kernelspec": {
   "display_name": "Python 3 (ipykernel)",
   "language": "python",
   "name": "python3"
  },
  "language_info": {
   "codemirror_mode": {
    "name": "ipython",
    "version": 3
   },
   "file_extension": ".py",
   "mimetype": "text/x-python",
   "name": "python",
   "nbconvert_exporter": "python",
   "pygments_lexer": "ipython3",
   "version": "3.8.12"
  }
 },
 "nbformat": 4,
 "nbformat_minor": 5
}
