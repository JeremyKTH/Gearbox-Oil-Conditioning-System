{
 "cells": [
  {
   "cell_type": "code",
   "execution_count": 56,
   "id": "0c61051b-13d4-416d-be56-94830eb780f4",
   "metadata": {},
   "outputs": [],
   "source": [
    "import pandas as pd\n",
    "import matplotlib.pyplot as plt"
   ]
  },
  {
   "cell_type": "markdown",
   "id": "079e8007-bbac-405d-89ed-25805a9f31b9",
   "metadata": {
    "tags": []
   },
   "source": [
    "# Import Data"
   ]
  },
  {
   "cell_type": "code",
   "execution_count": 57,
   "id": "3b0bd650-a302-4fb5-8ee7-1127e7657143",
   "metadata": {},
   "outputs": [
    {
     "name": "stderr",
     "output_type": "stream",
     "text": [
      "C:\\Users\\jerem\\anaconda3\\envs\\finance\\lib\\site-packages\\IPython\\core\\interactiveshell.py:3444: DtypeWarning: Columns (7) have mixed types.Specify dtype option on import or set low_memory=False.\n",
      "  exec(code_obj, self.user_global_ns, self.user_ns)\n"
     ]
    }
   ],
   "source": [
    "#data = pd.read_csv(r'C:\\Users\\jerem\\Documents\\Python Scripts\\Scania\\mini_data.csv', sep=\"\\t\")\n",
    "data = pd.read_csv(r'C:\\Users\\jerem\\Documents\\Python Scripts\\Scania\\Original_Raw_Data.csv', sep=\"\\t\")"
   ]
  },
  {
   "cell_type": "markdown",
   "id": "d498446e-9bda-4ac8-8e5d-0b9061af584a",
   "metadata": {},
   "source": [
    "# Extract useful data"
   ]
  },
  {
   "cell_type": "code",
   "execution_count": 59,
   "id": "0ba0b9f8-baf9-4039-ac6e-ea4e85542f52",
   "metadata": {},
   "outputs": [
    {
     "data": {
      "text/html": [
       "<div>\n",
       "<style scoped>\n",
       "    .dataframe tbody tr th:only-of-type {\n",
       "        vertical-align: middle;\n",
       "    }\n",
       "\n",
       "    .dataframe tbody tr th {\n",
       "        vertical-align: top;\n",
       "    }\n",
       "\n",
       "    .dataframe thead th {\n",
       "        text-align: right;\n",
       "    }\n",
       "</style>\n",
       "<table border=\"1\" class=\"dataframe\">\n",
       "  <thead>\n",
       "    <tr style=\"text-align: right;\">\n",
       "      <th></th>\n",
       "      <th>KVSV1</th>\n",
       "      <th>OTGT1</th>\n",
       "      <th>OTGT6</th>\n",
       "      <th>OTSV1</th>\n",
       "      <th>QV11</th>\n",
       "      <th>TV11</th>\n",
       "      <th>TV12</th>\n",
       "      <th>TV_Cmd</th>\n",
       "    </tr>\n",
       "  </thead>\n",
       "  <tbody>\n",
       "    <tr>\n",
       "      <th>0</th>\n",
       "      <td>70</td>\n",
       "      <td>28,71</td>\n",
       "      <td>34,01</td>\n",
       "      <td>6,388</td>\n",
       "      <td>9,3559999465942383</td>\n",
       "      <td>40,35</td>\n",
       "      <td>28,89</td>\n",
       "      <td>20</td>\n",
       "    </tr>\n",
       "    <tr>\n",
       "      <th>1</th>\n",
       "      <td>70</td>\n",
       "      <td>28,71</td>\n",
       "      <td>34,01</td>\n",
       "      <td>6,388</td>\n",
       "      <td>9,3559999465942383</td>\n",
       "      <td>40,35</td>\n",
       "      <td>28,89</td>\n",
       "      <td>20</td>\n",
       "    </tr>\n",
       "    <tr>\n",
       "      <th>2</th>\n",
       "      <td>70</td>\n",
       "      <td>28,71</td>\n",
       "      <td>34,01</td>\n",
       "      <td>6,388</td>\n",
       "      <td>9,3559999465942383</td>\n",
       "      <td>40,35</td>\n",
       "      <td>28,89</td>\n",
       "      <td>20</td>\n",
       "    </tr>\n",
       "    <tr>\n",
       "      <th>3</th>\n",
       "      <td>70</td>\n",
       "      <td>28,71</td>\n",
       "      <td>34,01</td>\n",
       "      <td>6,388</td>\n",
       "      <td>9,3559999465942383</td>\n",
       "      <td>40,35</td>\n",
       "      <td>28,89</td>\n",
       "      <td>20</td>\n",
       "    </tr>\n",
       "    <tr>\n",
       "      <th>4</th>\n",
       "      <td>70</td>\n",
       "      <td>28,69</td>\n",
       "      <td>34,01</td>\n",
       "      <td>6,388</td>\n",
       "      <td>9,3559999465942383</td>\n",
       "      <td>40,35</td>\n",
       "      <td>28,89</td>\n",
       "      <td>20</td>\n",
       "    </tr>\n",
       "    <tr>\n",
       "      <th>...</th>\n",
       "      <td>...</td>\n",
       "      <td>...</td>\n",
       "      <td>...</td>\n",
       "      <td>...</td>\n",
       "      <td>...</td>\n",
       "      <td>...</td>\n",
       "      <td>...</td>\n",
       "      <td>...</td>\n",
       "    </tr>\n",
       "    <tr>\n",
       "      <th>1614717</th>\n",
       "      <td>6,7</td>\n",
       "      <td>61,21</td>\n",
       "      <td>76,25</td>\n",
       "      <td>32,1</td>\n",
       "      <td>8,8500003814697266</td>\n",
       "      <td>62,85</td>\n",
       "      <td>61,34</td>\n",
       "      <td>60</td>\n",
       "    </tr>\n",
       "    <tr>\n",
       "      <th>1614718</th>\n",
       "      <td>6,7</td>\n",
       "      <td>61,21</td>\n",
       "      <td>76,25</td>\n",
       "      <td>32,1</td>\n",
       "      <td>8,8500003814697266</td>\n",
       "      <td>62,85</td>\n",
       "      <td>61,34</td>\n",
       "      <td>60</td>\n",
       "    </tr>\n",
       "    <tr>\n",
       "      <th>1614719</th>\n",
       "      <td>6,7</td>\n",
       "      <td>61,25</td>\n",
       "      <td>76,25</td>\n",
       "      <td>32,1</td>\n",
       "      <td>8,8500003814697266</td>\n",
       "      <td>62,85</td>\n",
       "      <td>61,34</td>\n",
       "      <td>60</td>\n",
       "    </tr>\n",
       "    <tr>\n",
       "      <th>1614720</th>\n",
       "      <td>6,7</td>\n",
       "      <td>61,25</td>\n",
       "      <td>76,25</td>\n",
       "      <td>32,1</td>\n",
       "      <td>8,8500003814697266</td>\n",
       "      <td>62,85</td>\n",
       "      <td>61,34</td>\n",
       "      <td>60</td>\n",
       "    </tr>\n",
       "    <tr>\n",
       "      <th>1614721</th>\n",
       "      <td>6,7</td>\n",
       "      <td>61,25</td>\n",
       "      <td>76,25</td>\n",
       "      <td>32,1</td>\n",
       "      <td>8,8500003814697266</td>\n",
       "      <td>62,85</td>\n",
       "      <td>61,34</td>\n",
       "      <td>60</td>\n",
       "    </tr>\n",
       "  </tbody>\n",
       "</table>\n",
       "<p>1614722 rows × 8 columns</p>\n",
       "</div>"
      ],
      "text/plain": [
       "        KVSV1  OTGT1  OTGT6  OTSV1                QV11   TV11   TV12  TV_Cmd\n",
       "0          70  28,71  34,01  6,388  9,3559999465942383  40,35  28,89      20\n",
       "1          70  28,71  34,01  6,388  9,3559999465942383  40,35  28,89      20\n",
       "2          70  28,71  34,01  6,388  9,3559999465942383  40,35  28,89      20\n",
       "3          70  28,71  34,01  6,388  9,3559999465942383  40,35  28,89      20\n",
       "4          70  28,69  34,01  6,388  9,3559999465942383  40,35  28,89      20\n",
       "...       ...    ...    ...    ...                 ...    ...    ...     ...\n",
       "1614717   6,7  61,21  76,25   32,1  8,8500003814697266  62,85  61,34      60\n",
       "1614718   6,7  61,21  76,25   32,1  8,8500003814697266  62,85  61,34      60\n",
       "1614719   6,7  61,25  76,25   32,1  8,8500003814697266  62,85  61,34      60\n",
       "1614720   6,7  61,25  76,25   32,1  8,8500003814697266  62,85  61,34      60\n",
       "1614721   6,7  61,25  76,25   32,1  8,8500003814697266  62,85  61,34      60\n",
       "\n",
       "[1614722 rows x 8 columns]"
      ]
     },
     "execution_count": 59,
     "metadata": {},
     "output_type": "execute_result"
    }
   ],
   "source": [
    "clean_data = data[['KVSV1', 'OTGT1', 'OTGT6', 'OTSV1', 'QV11', 'TV11', 'TV12', 'TV_Cmd']]\n",
    "clean_data"
   ]
  },
  {
   "cell_type": "markdown",
   "id": "3dc93e3c-2cdd-47f1-aba1-24183de98d7c",
   "metadata": {},
   "source": [
    "## change to correct data format"
   ]
  },
  {
   "cell_type": "code",
   "execution_count": 60,
   "id": "c7c60e65-4086-40b3-8ebd-55325f58a706",
   "metadata": {},
   "outputs": [],
   "source": [
    "for i in range(len(clean_data[['KVSV1']])):\n",
    "    if clean_data.at[i, 'KVSV1'].find(',') == -1:\n",
    "        clean_data.at[i, 'KVSV1'] = int(clean_data.at[i, 'KVSV1'])\n",
    "    else:\n",
    "        clean_data.at[i, 'KVSV1'] = round(float(clean_data.at[i, 'KVSV1'].replace(',', '.')), 2)\n",
    "    \n",
    "for i in range(len(clean_data[['OTGT1']])):\n",
    "    clean_data.at[i, 'OTGT1'] = round(float(clean_data.at[i, 'OTGT1'].replace(',', '.')), 2)\n",
    "    \n",
    "for i in range(len(clean_data[['OTGT6']])):\n",
    "    clean_data.at[i, 'OTGT6'] = round(float(clean_data.at[i, 'OTGT6'].replace(',', '.')), 2)"
   ]
  },
  {
   "cell_type": "code",
   "execution_count": 70,
   "id": "69ab5756-a85c-4a08-a3a2-abee381b07db",
   "metadata": {},
   "outputs": [],
   "source": [
    "for i in range(len(clean_data[['OTSV1']])):\n",
    "    clean_data.at[i, 'OTSV1'] = float(str(clean_data.at[i, 'OTSV1']).replace(',', '.'))\n",
    "    "
   ]
  },
  {
   "cell_type": "code",
   "execution_count": 61,
   "id": "af50feef-b5c7-476f-ab00-47842f0db066",
   "metadata": {},
   "outputs": [],
   "source": [
    "for i in range(len(clean_data[['QV11']])):\n",
    "    clean_data.at[i, 'QV11'] = round(float(clean_data.at[i, 'QV11'].replace(',', '.')), 3)\n",
    "    \n",
    "for i in range(len(clean_data[['TV11']])):\n",
    "    clean_data.at[i, 'TV11'] = round(float(clean_data.at[i, 'TV11'].replace(',', '.')), 2)\n",
    "    \n",
    "for i in range(len(clean_data[['TV12']])):\n",
    "    clean_data.at[i, 'TV12'] = round(float(clean_data.at[i, 'TV12'].replace(',', '.')), 2)\n",
    "    \n",
    "for i in range(len(clean_data[['TV_Cmd']])):\n",
    "    clean_data.at[i, 'TV_Cmd'] = int(clean_data.at[i, 'TV_Cmd'])"
   ]
  },
  {
   "cell_type": "code",
   "execution_count": 77,
   "id": "5615cc59-6df2-4f55-a6cb-fcd235b5231f",
   "metadata": {},
   "outputs": [
    {
     "data": {
      "text/html": [
       "<div>\n",
       "<style scoped>\n",
       "    .dataframe tbody tr th:only-of-type {\n",
       "        vertical-align: middle;\n",
       "    }\n",
       "\n",
       "    .dataframe tbody tr th {\n",
       "        vertical-align: top;\n",
       "    }\n",
       "\n",
       "    .dataframe thead th {\n",
       "        text-align: right;\n",
       "    }\n",
       "</style>\n",
       "<table border=\"1\" class=\"dataframe\">\n",
       "  <thead>\n",
       "    <tr style=\"text-align: right;\">\n",
       "      <th></th>\n",
       "      <th>KVSV1</th>\n",
       "      <th>OTGT1</th>\n",
       "      <th>OTGT6</th>\n",
       "      <th>OTSV1</th>\n",
       "      <th>QV11</th>\n",
       "      <th>TV11</th>\n",
       "      <th>TV12</th>\n",
       "      <th>TV_Cmd</th>\n",
       "    </tr>\n",
       "  </thead>\n",
       "  <tbody>\n",
       "    <tr>\n",
       "      <th>1614721</th>\n",
       "      <td>6.7</td>\n",
       "      <td>61.25</td>\n",
       "      <td>76.25</td>\n",
       "      <td>32.1</td>\n",
       "      <td>8.85</td>\n",
       "      <td>62.85</td>\n",
       "      <td>61.34</td>\n",
       "      <td>60</td>\n",
       "    </tr>\n",
       "    <tr>\n",
       "      <th>1614720</th>\n",
       "      <td>6.7</td>\n",
       "      <td>61.25</td>\n",
       "      <td>76.25</td>\n",
       "      <td>32.1</td>\n",
       "      <td>8.85</td>\n",
       "      <td>62.85</td>\n",
       "      <td>61.34</td>\n",
       "      <td>60</td>\n",
       "    </tr>\n",
       "    <tr>\n",
       "      <th>1614719</th>\n",
       "      <td>6.7</td>\n",
       "      <td>61.25</td>\n",
       "      <td>76.25</td>\n",
       "      <td>32.1</td>\n",
       "      <td>8.85</td>\n",
       "      <td>62.85</td>\n",
       "      <td>61.34</td>\n",
       "      <td>60</td>\n",
       "    </tr>\n",
       "    <tr>\n",
       "      <th>1614718</th>\n",
       "      <td>6.7</td>\n",
       "      <td>61.21</td>\n",
       "      <td>76.25</td>\n",
       "      <td>32.1</td>\n",
       "      <td>8.85</td>\n",
       "      <td>62.85</td>\n",
       "      <td>61.34</td>\n",
       "      <td>60</td>\n",
       "    </tr>\n",
       "    <tr>\n",
       "      <th>1614717</th>\n",
       "      <td>6.7</td>\n",
       "      <td>61.21</td>\n",
       "      <td>76.25</td>\n",
       "      <td>32.1</td>\n",
       "      <td>8.85</td>\n",
       "      <td>62.85</td>\n",
       "      <td>61.34</td>\n",
       "      <td>60</td>\n",
       "    </tr>\n",
       "    <tr>\n",
       "      <th>...</th>\n",
       "      <td>...</td>\n",
       "      <td>...</td>\n",
       "      <td>...</td>\n",
       "      <td>...</td>\n",
       "      <td>...</td>\n",
       "      <td>...</td>\n",
       "      <td>...</td>\n",
       "      <td>...</td>\n",
       "    </tr>\n",
       "    <tr>\n",
       "      <th>4</th>\n",
       "      <td>70</td>\n",
       "      <td>28.69</td>\n",
       "      <td>34.01</td>\n",
       "      <td>6.388</td>\n",
       "      <td>9.356</td>\n",
       "      <td>40.35</td>\n",
       "      <td>28.89</td>\n",
       "      <td>20</td>\n",
       "    </tr>\n",
       "    <tr>\n",
       "      <th>3</th>\n",
       "      <td>70</td>\n",
       "      <td>28.71</td>\n",
       "      <td>34.01</td>\n",
       "      <td>6.388</td>\n",
       "      <td>9.356</td>\n",
       "      <td>40.35</td>\n",
       "      <td>28.89</td>\n",
       "      <td>20</td>\n",
       "    </tr>\n",
       "    <tr>\n",
       "      <th>2</th>\n",
       "      <td>70</td>\n",
       "      <td>28.71</td>\n",
       "      <td>34.01</td>\n",
       "      <td>6.388</td>\n",
       "      <td>9.356</td>\n",
       "      <td>40.35</td>\n",
       "      <td>28.89</td>\n",
       "      <td>20</td>\n",
       "    </tr>\n",
       "    <tr>\n",
       "      <th>1</th>\n",
       "      <td>70</td>\n",
       "      <td>28.71</td>\n",
       "      <td>34.01</td>\n",
       "      <td>6.388</td>\n",
       "      <td>9.356</td>\n",
       "      <td>40.35</td>\n",
       "      <td>28.89</td>\n",
       "      <td>20</td>\n",
       "    </tr>\n",
       "    <tr>\n",
       "      <th>0</th>\n",
       "      <td>70</td>\n",
       "      <td>28.71</td>\n",
       "      <td>34.01</td>\n",
       "      <td>6.388</td>\n",
       "      <td>9.356</td>\n",
       "      <td>40.35</td>\n",
       "      <td>28.89</td>\n",
       "      <td>20</td>\n",
       "    </tr>\n",
       "  </tbody>\n",
       "</table>\n",
       "<p>1614722 rows × 8 columns</p>\n",
       "</div>"
      ],
      "text/plain": [
       "        KVSV1  OTGT1  OTGT6  OTSV1   QV11   TV11   TV12  TV_Cmd\n",
       "1614721   6.7  61.25  76.25   32.1   8.85  62.85  61.34      60\n",
       "1614720   6.7  61.25  76.25   32.1   8.85  62.85  61.34      60\n",
       "1614719   6.7  61.25  76.25   32.1   8.85  62.85  61.34      60\n",
       "1614718   6.7  61.21  76.25   32.1   8.85  62.85  61.34      60\n",
       "1614717   6.7  61.21  76.25   32.1   8.85  62.85  61.34      60\n",
       "...       ...    ...    ...    ...    ...    ...    ...     ...\n",
       "4          70  28.69  34.01  6.388  9.356  40.35  28.89      20\n",
       "3          70  28.71  34.01  6.388  9.356  40.35  28.89      20\n",
       "2          70  28.71  34.01  6.388  9.356  40.35  28.89      20\n",
       "1          70  28.71  34.01  6.388  9.356  40.35  28.89      20\n",
       "0          70  28.71  34.01  6.388  9.356  40.35  28.89      20\n",
       "\n",
       "[1614722 rows x 8 columns]"
      ]
     },
     "execution_count": 77,
     "metadata": {},
     "output_type": "execute_result"
    }
   ],
   "source": [
    "clean_data = clean_data.reindex(index=clean_data.index[::-1])\n",
    "clean_data"
   ]
  },
  {
   "cell_type": "code",
   "execution_count": 80,
   "id": "b6bc54fa-0c3d-4787-abae-504efd35c21a",
   "metadata": {},
   "outputs": [],
   "source": [
    "clean_data.to_csv(r'C:\\Users\\jerem\\Documents\\Python Scripts\\Scania\\clean_data.csv', index=False, encoding='utf-8')"
   ]
  },
  {
   "cell_type": "markdown",
   "id": "54a98088-fd50-4518-b695-44dc389b7ab0",
   "metadata": {},
   "source": [
    "# Plot Data\n",
    "## Variable names:\n",
    "KVSV1  :  Valve Cooling Temp       <br>\n",
    "OTGT1  :  Temp into heat exchanger <br>\n",
    "OTGT6  :  Valve Heataing Temp      <br>\n",
    "OTSV1  :  3-way valve Heat/Cool %  <br>\n",
    "QV11   :  Flow Liter/Min           <br>\n",
    "TV11   :  Temp exiting gearbox     <br>\n",
    "TV12   :  Temp entering gearbox    <br>\n",
    "TV_Cmd :  Setpoint for TV11/TV12   <br>"
   ]
  },
  {
   "cell_type": "markdown",
   "id": "f6b16874-e2f6-4451-b1d8-481f3a899234",
   "metadata": {},
   "source": [
    "## Input Command, Input percentage, Output Temp"
   ]
  },
  {
   "cell_type": "code",
   "execution_count": 78,
   "id": "7f616564-a4e4-4040-bb75-e651952a160a",
   "metadata": {},
   "outputs": [
    {
     "data": {
      "text/plain": [
       "<AxesSubplot:>"
      ]
     },
     "execution_count": 78,
     "metadata": {},
     "output_type": "execute_result"
    },
    {
     "data": {
      "image/png": "[encoded data removed]",
      "text/plain": [
       "<Figure size 432x288 with 1 Axes>"
      ]
     },
     "metadata": {
      "needs_background": "light"
     },
     "output_type": "display_data"
    }
   ],
   "source": [
    "plot_data0 = clean_data[['TV_Cmd', 'OTSV1', 'TV12']].iloc[::1000,:]\n",
    "plot_data0.plot()"
   ]
  },
  {
   "cell_type": "markdown",
   "id": "b470ca3f-9883-4f5c-9f51-e033415de06d",
   "metadata": {},
   "source": [
    "## Temp In/Out Gearbox"
   ]
  },
  {
   "cell_type": "code",
   "execution_count": 81,
   "id": "68a36251-8733-40a6-a186-a7336b4601db",
   "metadata": {},
   "outputs": [
    {
     "data": {
      "text/plain": [
       "<AxesSubplot:>"
      ]
     },
     "execution_count": 81,
     "metadata": {},
     "output_type": "execute_result"
    },
    {
     "data": {
      "image/png": "[encoded data removed]",
      "text/plain": [
       "<Figure size 432x288 with 1 Axes>"
      ]
     },
     "metadata": {
      "needs_background": "light"
     },
     "output_type": "display_data"
    }
   ],
   "source": [
    "plot_data0 = clean_data[['TV11', 'TV12']].iloc[::1000,:]\n",
    "plot_data0.plot()"
   ]
  },
  {
   "cell_type": "markdown",
   "id": "eba4a614-dde2-4716-89d9-2281b640520f",
   "metadata": {},
   "source": [
    "## Heating and Cooling Valve Temperatures"
   ]
  },
  {
   "cell_type": "code",
   "execution_count": 79,
   "id": "58e84a9b-102b-416d-ad0c-552e06cf5fb3",
   "metadata": {},
   "outputs": [
    {
     "data": {
      "text/plain": [
       "<AxesSubplot:>"
      ]
     },
     "execution_count": 79,
     "metadata": {},
     "output_type": "execute_result"
    },
    {
     "data": {
      "image/png": "[encoded data removed]",
      "text/plain": [
       "<Figure size 432x288 with 1 Axes>"
      ]
     },
     "metadata": {
      "needs_background": "light"
     },
     "output_type": "display_data"
    }
   ],
   "source": [
    "plot_data2 = clean_data[['KVSV1', 'OTGT6']].iloc[::1000,:]\n",
    "plot_data2.plot()"
   ]
  },
  {
   "cell_type": "code",
   "execution_count": null,
   "id": "cddee557-88e5-42de-ac1d-6b71961d9554",
   "metadata": {},
   "outputs": [],
   "source": []
  }
 ],
 "metadata": {
  "kernelspec": {
   "display_name": "Python 3 (ipykernel)",
   "language": "python",
   "name": "python3"
  },
  "language_info": {
   "codemirror_mode": {
    "name": "ipython",
    "version": 3
   },
   "file_extension": ".py",
   "mimetype": "text/x-python",
   "name": "python",
   "nbconvert_exporter": "python",
   "pygments_lexer": "ipython3",
   "version": "3.9.7"
  }
 },
 "nbformat": 4,
 "nbformat_minor": 5
}
